{
 "cells": [
  {
   "cell_type": "markdown",
   "id": "466411e6",
   "metadata": {},
   "source": [
    "# CUSTOMER ANALYSIS - Data preprocess"
   ]
  },
  {
   "cell_type": "markdown",
   "id": "d7a7c4d6",
   "metadata": {},
   "source": [
    "Using k-means algorithm :\n",
    "\n",
    "1) Evaluate clustering results (silhouette score) between original and normalized/standardized data.\n",
    "\n",
    "2) Cluster number optimization (camparison between original and normalized/standardized data)."
   ]
  },
  {
   "cell_type": "markdown",
   "id": "41e1aab7",
   "metadata": {},
   "source": [
    "Conclusion :\n",
    "1) 2 clusters ; Original score : 0.63 / Standardized score : 0.23 // 3 clusters ; Original score : 0.59 / Standardized score : 0.16\n",
    "\n",
    "2) Clusters : 2/3"
   ]
  },
  {
   "cell_type": "markdown",
   "id": "d5ff2885",
   "metadata": {},
   "source": [
    "## LIBRARIES IMPORT"
   ]
  },
  {
   "cell_type": "code",
   "execution_count": 1,
   "id": "9a7cb4b8",
   "metadata": {},
   "outputs": [],
   "source": [
    "# Data process\n",
    "import pandas as pd\n",
    "import matplotlib.pyplot as plt\n",
    "\n",
    "from datetime import date\n",
    "import time\n",
    "\n",
    "from sklearn.preprocessing import LabelEncoder\n",
    "from sklearn.preprocessing import normalize, StandardScaler, MaxAbsScaler\n",
    "\n",
    "\n",
    "# ML\n",
    "from sklearn.cluster import KMeans\n",
    "\n",
    "from sklearn.metrics import silhouette_score"
   ]
  },
  {
   "cell_type": "markdown",
   "id": "fda4c1b3",
   "metadata": {},
   "source": [
    "## DATA IMPORT"
   ]
  },
  {
   "cell_type": "markdown",
   "id": "a2a24880",
   "metadata": {},
   "source": [
    "Get data from csv"
   ]
  },
  {
   "cell_type": "code",
   "execution_count": 2,
   "id": "fdead6eb",
   "metadata": {},
   "outputs": [],
   "source": [
    "df = pd.read_csv('marketing_campaign.csv', sep = '\\t')"
   ]
  },
  {
   "cell_type": "markdown",
   "id": "b96468e1",
   "metadata": {},
   "source": [
    "## DATA EXPLORATION"
   ]
  },
  {
   "cell_type": "markdown",
   "id": "40c38bb0",
   "metadata": {},
   "source": [
    "See what does data look like"
   ]
  },
  {
   "cell_type": "code",
   "execution_count": 3,
   "id": "74469f94",
   "metadata": {},
   "outputs": [],
   "source": [
    "#df.head()"
   ]
  },
  {
   "cell_type": "markdown",
   "id": "7b7e316e",
   "metadata": {},
   "source": [
    "## DATA PREPROCESSING"
   ]
  },
  {
   "cell_type": "markdown",
   "id": "2bc6b932",
   "metadata": {},
   "source": [
    "### Preprocess data according to data viz observations"
   ]
  },
  {
   "cell_type": "code",
   "execution_count": 4,
   "id": "786dd920",
   "metadata": {},
   "outputs": [],
   "source": [
    "df_p = df.drop(df[df.Year_Birth < 1920].index)"
   ]
  },
  {
   "cell_type": "code",
   "execution_count": 5,
   "id": "daf796c7",
   "metadata": {},
   "outputs": [],
   "source": [
    "df_p.drop(df[df.Marital_Status =='Absurd'].index, inplace = True)\n",
    "df_p.drop(df[df.Marital_Status =='YOLO'].index, inplace = True)\n",
    "df_p.replace('Alone', 'Single', inplace = True)"
   ]
  },
  {
   "cell_type": "code",
   "execution_count": 6,
   "id": "60821de9",
   "metadata": {},
   "outputs": [],
   "source": [
    "df_p.drop(df[df.Income == 666666].index, inplace = True)"
   ]
  },
  {
   "cell_type": "code",
   "execution_count": 7,
   "id": "33d34e32",
   "metadata": {},
   "outputs": [],
   "source": [
    "df_p.dropna(inplace=True)"
   ]
  },
  {
   "cell_type": "code",
   "execution_count": 8,
   "id": "b0c3764a",
   "metadata": {},
   "outputs": [],
   "source": [
    "def convert_to_timestamp(x):\n",
    "    \"\"\"Convert date objects to integers\"\"\"\n",
    "    return time.mktime(x.timetuple())\n",
    "\n",
    "df_p['Dt_Customer'] = pd.to_datetime(df.Dt_Customer, dayfirst=True).apply(convert_to_timestamp)"
   ]
  },
  {
   "cell_type": "code",
   "execution_count": 9,
   "id": "0c37d536",
   "metadata": {},
   "outputs": [],
   "source": [
    "df_p.dropna(inplace=True)"
   ]
  },
  {
   "cell_type": "code",
   "execution_count": 10,
   "id": "5aa624f7",
   "metadata": {},
   "outputs": [],
   "source": [
    "df_p.reset_index(inplace = True, drop = True)"
   ]
  },
  {
   "cell_type": "markdown",
   "id": "0585d246",
   "metadata": {},
   "source": [
    "### Features selection and encoding"
   ]
  },
  {
   "cell_type": "markdown",
   "id": "104bb99e",
   "metadata": {},
   "source": [
    "Get columns names to slice df to X below"
   ]
  },
  {
   "cell_type": "code",
   "execution_count": 11,
   "id": "a8904bba",
   "metadata": {},
   "outputs": [],
   "source": [
    "#col = df.columns\n",
    "#col"
   ]
  },
  {
   "cell_type": "markdown",
   "id": "2bbfa70a",
   "metadata": {},
   "source": [
    "Slice df to define X_1, matrix of numerical features"
   ]
  },
  {
   "cell_type": "code",
   "execution_count": 12,
   "id": "fbee0861",
   "metadata": {},
   "outputs": [],
   "source": [
    "X_1 = df_p[['Year_Birth', 'Income', 'Kidhome', 'Teenhome', 'Dt_Customer', 'Recency', 'MntWines', 'MntFruits', 'MntMeatProducts', 'MntFishProducts', 'MntSweetProducts', 'MntGoldProds', 'NumDealsPurchases', 'NumWebPurchases', 'NumCatalogPurchases', 'NumStorePurchases', 'NumWebVisitsMonth', 'AcceptedCmp3', 'AcceptedCmp4', 'AcceptedCmp5', 'AcceptedCmp1', 'AcceptedCmp2', 'Complain', 'Response']]\n",
    "#X_1"
   ]
  },
  {
   "cell_type": "markdown",
   "id": "c1493d51",
   "metadata": {},
   "source": [
    "Label encode Education and Marital Status features"
   ]
  },
  {
   "cell_type": "code",
   "execution_count": 13,
   "id": "bcdab374",
   "metadata": {},
   "outputs": [],
   "source": [
    "le = LabelEncoder()"
   ]
  },
  {
   "cell_type": "code",
   "execution_count": 14,
   "id": "92999242",
   "metadata": {},
   "outputs": [],
   "source": [
    "edu = le.fit_transform(df_p['Education'])\n",
    "#edu"
   ]
  },
  {
   "cell_type": "code",
   "execution_count": 15,
   "id": "6fcb45c1",
   "metadata": {},
   "outputs": [],
   "source": [
    "marit = le.fit_transform(df_p['Marital_Status'])\n",
    "#marit"
   ]
  },
  {
   "cell_type": "markdown",
   "id": "ee80c199",
   "metadata": {},
   "source": [
    "Definition of df X_2, matrix of encoded features"
   ]
  },
  {
   "cell_type": "code",
   "execution_count": 16,
   "id": "dbfc8a39",
   "metadata": {},
   "outputs": [],
   "source": [
    "X_2 = pd.concat([pd.DataFrame(edu.reshape((-1, 1))), pd.DataFrame(marit.reshape((-1, 1)))], axis = 1)\n",
    "X_2.columns = ['Education', 'Marital_Status']\n",
    "#X_2"
   ]
  },
  {
   "cell_type": "markdown",
   "id": "62d5d7ac",
   "metadata": {},
   "source": [
    "Definition of X, matrix of all features"
   ]
  },
  {
   "cell_type": "code",
   "execution_count": 17,
   "id": "f818f6fe",
   "metadata": {},
   "outputs": [],
   "source": [
    "X = pd.concat([X_1, X_2], axis = 1)\n",
    "#X"
   ]
  },
  {
   "cell_type": "markdown",
   "id": "ed77721f",
   "metadata": {},
   "source": [
    "### Features Standardization"
   ]
  },
  {
   "cell_type": "code",
   "execution_count": 18,
   "id": "03e0fd8b",
   "metadata": {},
   "outputs": [],
   "source": [
    "#X_n = pd.DataFrame(normalize(X, axis = 0), columns = X.columns)\n",
    "scaler = StandardScaler()\n",
    "#scaler = MaxAbsScaler()\n",
    "\n",
    "#scaler"
   ]
  },
  {
   "cell_type": "code",
   "execution_count": 19,
   "id": "a7e4d455",
   "metadata": {},
   "outputs": [],
   "source": [
    "#X.head()"
   ]
  },
  {
   "cell_type": "code",
   "execution_count": 20,
   "id": "425adcc9",
   "metadata": {},
   "outputs": [
    {
     "name": "stdout",
     "output_type": "stream",
     "text": [
      "<class 'pandas.core.frame.DataFrame'>\n",
      "RangeIndex: 2208 entries, 0 to 2207\n",
      "Data columns (total 26 columns):\n",
      " #   Column               Non-Null Count  Dtype  \n",
      "---  ------               --------------  -----  \n",
      " 0   Year_Birth           2208 non-null   int64  \n",
      " 1   Income               2208 non-null   float64\n",
      " 2   Kidhome              2208 non-null   int64  \n",
      " 3   Teenhome             2208 non-null   int64  \n",
      " 4   Dt_Customer          2208 non-null   float64\n",
      " 5   Recency              2208 non-null   int64  \n",
      " 6   MntWines             2208 non-null   int64  \n",
      " 7   MntFruits            2208 non-null   int64  \n",
      " 8   MntMeatProducts      2208 non-null   int64  \n",
      " 9   MntFishProducts      2208 non-null   int64  \n",
      " 10  MntSweetProducts     2208 non-null   int64  \n",
      " 11  MntGoldProds         2208 non-null   int64  \n",
      " 12  NumDealsPurchases    2208 non-null   int64  \n",
      " 13  NumWebPurchases      2208 non-null   int64  \n",
      " 14  NumCatalogPurchases  2208 non-null   int64  \n",
      " 15  NumStorePurchases    2208 non-null   int64  \n",
      " 16  NumWebVisitsMonth    2208 non-null   int64  \n",
      " 17  AcceptedCmp3         2208 non-null   int64  \n",
      " 18  AcceptedCmp4         2208 non-null   int64  \n",
      " 19  AcceptedCmp5         2208 non-null   int64  \n",
      " 20  AcceptedCmp1         2208 non-null   int64  \n",
      " 21  AcceptedCmp2         2208 non-null   int64  \n",
      " 22  Complain             2208 non-null   int64  \n",
      " 23  Response             2208 non-null   int64  \n",
      " 24  Education            2208 non-null   int32  \n",
      " 25  Marital_Status       2208 non-null   int32  \n",
      "dtypes: float64(2), int32(2), int64(22)\n",
      "memory usage: 431.4 KB\n"
     ]
    }
   ],
   "source": [
    "X.info()"
   ]
  },
  {
   "cell_type": "code",
   "execution_count": 21,
   "id": "bd72918f",
   "metadata": {},
   "outputs": [],
   "source": [
    "X_n = pd.DataFrame(scaler.fit_transform(X), columns = X.columns)\n",
    "#X_n.head()"
   ]
  },
  {
   "cell_type": "markdown",
   "id": "de29026a",
   "metadata": {},
   "source": [
    "## CLASSIFICATION"
   ]
  },
  {
   "cell_type": "markdown",
   "id": "a72a4fcf",
   "metadata": {},
   "source": [
    "### Cluster number optimization"
   ]
  },
  {
   "cell_type": "code",
   "execution_count": 22,
   "id": "7cf5a6c4",
   "metadata": {},
   "outputs": [
    {
     "name": "stderr",
     "output_type": "stream",
     "text": [
      "C:\\Users\\utile\\anaconda3\\lib\\site-packages\\sklearn\\cluster\\_kmeans.py:1036: UserWarning: KMeans is known to have a memory leak on Windows with MKL, when there are less chunks than available threads. You can avoid it by setting the environment variable OMP_NUM_THREADS=9.\n",
      "  warnings.warn(\n"
     ]
    }
   ],
   "source": [
    "sse_orig = []\n",
    "for k in range(1, 20):\n",
    "    model_km = KMeans(n_clusters=k)\n",
    "    model_km.fit(X)\n",
    "    sse_orig.append(model_km.inertia_)"
   ]
  },
  {
   "cell_type": "code",
   "execution_count": 23,
   "id": "925798a2",
   "metadata": {},
   "outputs": [
    {
     "name": "stderr",
     "output_type": "stream",
     "text": [
      "C:\\Users\\utile\\anaconda3\\lib\\site-packages\\sklearn\\cluster\\_kmeans.py:1036: UserWarning: KMeans is known to have a memory leak on Windows with MKL, when there are less chunks than available threads. You can avoid it by setting the environment variable OMP_NUM_THREADS=9.\n",
      "  warnings.warn(\n"
     ]
    }
   ],
   "source": [
    "sse_n = []\n",
    "for k in range(1, 20):\n",
    "    model_km = KMeans(n_clusters=k)\n",
    "    model_km.fit(X_n)\n",
    "    sse_n.append(model_km.inertia_)"
   ]
  },
  {
   "cell_type": "code",
   "execution_count": 24,
   "id": "da527d40",
   "metadata": {},
   "outputs": [],
   "source": [
    "cluster_orig_df = pd.DataFrame({'Cluster':range(1, 20), 'sse':sse_orig})\n",
    "cluster_n_df = pd.DataFrame({'Cluster':range(1, 20), 'sse':sse_n})"
   ]
  },
  {
   "cell_type": "code",
   "execution_count": 25,
   "id": "5693fe3f",
   "metadata": {},
   "outputs": [
    {
     "data": {
      "image/png": "[encoded data removed]",
      "text/plain": [
       "<Figure size 1500x500 with 2 Axes>"
      ]
     },
     "metadata": {},
     "output_type": "display_data"
    }
   ],
   "source": [
    "plt.figure(figsize=(15, 5))\n",
    "\n",
    "\n",
    "plt.subplot(1, 2, 1)\n",
    "plt.title('Original Data')\n",
    "plt.plot(cluster_orig_df['Cluster'], cluster_orig_df['sse'])\n",
    "plt.xlabel('Number of clusters')\n",
    "plt.ylabel('Inertia')\n",
    "plt.xticks(cluster_orig_df['Cluster'])\n",
    "\n",
    "\n",
    "plt.subplot(1, 2, 2)\n",
    "plt.title('Standardized Data')\n",
    "plt.plot(cluster_n_df['Cluster'], cluster_n_df['sse'])\n",
    "plt.xlabel('Number of clusters')\n",
    "plt.ylabel('Inertia')\n",
    "plt.xticks(cluster_n_df['Cluster'])\n",
    "\n",
    "\n",
    "plt.show()"
   ]
  },
  {
   "cell_type": "code",
   "execution_count": 26,
   "id": "ab032a6c",
   "metadata": {},
   "outputs": [],
   "source": [
    "n_clusters = 3\n",
    "random_state = 130"
   ]
  },
  {
   "cell_type": "markdown",
   "id": "997daf5e",
   "metadata": {},
   "source": [
    "### Train"
   ]
  },
  {
   "cell_type": "code",
   "execution_count": 27,
   "id": "07f7613c",
   "metadata": {},
   "outputs": [],
   "source": [
    "model_orig = KMeans(n_clusters = n_clusters, random_state = random_state)\n",
    "model_n = KMeans(n_clusters = n_clusters, random_state = random_state)"
   ]
  },
  {
   "cell_type": "code",
   "execution_count": 28,
   "id": "d7702b1c",
   "metadata": {},
   "outputs": [],
   "source": [
    "#model.get_params()"
   ]
  },
  {
   "cell_type": "code",
   "execution_count": 29,
   "id": "f1f74d00",
   "metadata": {},
   "outputs": [
    {
     "data": {
      "text/plain": [
       "KMeans(n_clusters=3, random_state=130)"
      ]
     },
     "execution_count": 29,
     "metadata": {},
     "output_type": "execute_result"
    }
   ],
   "source": [
    "model_orig.fit(X)\n",
    "model_n.fit(X_n)"
   ]
  },
  {
   "cell_type": "code",
   "execution_count": 30,
   "id": "00240691",
   "metadata": {},
   "outputs": [],
   "source": [
    "#model.inertia_"
   ]
  },
  {
   "cell_type": "code",
   "execution_count": 31,
   "id": "8f57bb98",
   "metadata": {},
   "outputs": [
    {
     "data": {
      "text/plain": [
       "y_pred\n",
       "1         757\n",
       "2         757\n",
       "0         694\n",
       "dtype: int64"
      ]
     },
     "execution_count": 31,
     "metadata": {},
     "output_type": "execute_result"
    }
   ],
   "source": [
    "y_pred_orig = model_orig.predict(X)\n",
    " \n",
    "pd.DataFrame(y_pred_orig, columns=['y_pred']).value_counts()"
   ]
  },
  {
   "cell_type": "code",
   "execution_count": 32,
   "id": "5eabcd61",
   "metadata": {},
   "outputs": [
    {
     "data": {
      "text/plain": [
       "y_pred\n",
       "0         1022\n",
       "2          640\n",
       "1          546\n",
       "dtype: int64"
      ]
     },
     "execution_count": 32,
     "metadata": {},
     "output_type": "execute_result"
    }
   ],
   "source": [
    "y_pred_n = model_n.predict(X_n)\n",
    "\n",
    "pd.DataFrame(y_pred_n, columns=['y_pred']).value_counts()"
   ]
  },
  {
   "cell_type": "code",
   "execution_count": 33,
   "id": "532bf1f8",
   "metadata": {},
   "outputs": [],
   "source": [
    "#model.cluster_centers_"
   ]
  },
  {
   "cell_type": "code",
   "execution_count": 34,
   "id": "68f552bf",
   "metadata": {
    "scrolled": false
   },
   "outputs": [
    {
     "data": {
      "text/html": [
       "<div>\n",
       "<style scoped>\n",
       "    .dataframe tbody tr th:only-of-type {\n",
       "        vertical-align: middle;\n",
       "    }\n",
       "\n",
       "    .dataframe tbody tr th {\n",
       "        vertical-align: top;\n",
       "    }\n",
       "\n",
       "    .dataframe thead th {\n",
       "        text-align: right;\n",
       "    }\n",
       "</style>\n",
       "<table border=\"1\" class=\"dataframe\">\n",
       "  <thead>\n",
       "    <tr style=\"text-align: right;\">\n",
       "      <th></th>\n",
       "      <th>Year_Birth</th>\n",
       "      <th>Income</th>\n",
       "      <th>Kidhome</th>\n",
       "      <th>Teenhome</th>\n",
       "      <th>Dt_Customer</th>\n",
       "      <th>Recency</th>\n",
       "      <th>MntWines</th>\n",
       "      <th>MntFruits</th>\n",
       "      <th>MntMeatProducts</th>\n",
       "      <th>MntFishProducts</th>\n",
       "      <th>...</th>\n",
       "      <th>NumWebVisitsMonth</th>\n",
       "      <th>AcceptedCmp3</th>\n",
       "      <th>AcceptedCmp4</th>\n",
       "      <th>AcceptedCmp5</th>\n",
       "      <th>AcceptedCmp1</th>\n",
       "      <th>AcceptedCmp2</th>\n",
       "      <th>Complain</th>\n",
       "      <th>Response</th>\n",
       "      <th>Education</th>\n",
       "      <th>Marital_Status</th>\n",
       "    </tr>\n",
       "  </thead>\n",
       "  <tbody>\n",
       "    <tr>\n",
       "      <th>2</th>\n",
       "      <td>1968</td>\n",
       "      <td>52186</td>\n",
       "      <td>0</td>\n",
       "      <td>0</td>\n",
       "      <td>1374184067</td>\n",
       "      <td>49</td>\n",
       "      <td>289</td>\n",
       "      <td>23</td>\n",
       "      <td>157</td>\n",
       "      <td>34</td>\n",
       "      <td>...</td>\n",
       "      <td>5</td>\n",
       "      <td>0</td>\n",
       "      <td>0</td>\n",
       "      <td>0</td>\n",
       "      <td>0</td>\n",
       "      <td>0</td>\n",
       "      <td>0</td>\n",
       "      <td>0</td>\n",
       "      <td>2</td>\n",
       "      <td>1</td>\n",
       "    </tr>\n",
       "    <tr>\n",
       "      <th>0</th>\n",
       "      <td>1968</td>\n",
       "      <td>53081</td>\n",
       "      <td>0</td>\n",
       "      <td>0</td>\n",
       "      <td>1394301947</td>\n",
       "      <td>48</td>\n",
       "      <td>248</td>\n",
       "      <td>24</td>\n",
       "      <td>153</td>\n",
       "      <td>33</td>\n",
       "      <td>...</td>\n",
       "      <td>4</td>\n",
       "      <td>0</td>\n",
       "      <td>0</td>\n",
       "      <td>0</td>\n",
       "      <td>0</td>\n",
       "      <td>0</td>\n",
       "      <td>0</td>\n",
       "      <td>0</td>\n",
       "      <td>2</td>\n",
       "      <td>1</td>\n",
       "    </tr>\n",
       "    <tr>\n",
       "      <th>1</th>\n",
       "      <td>1969</td>\n",
       "      <td>50657</td>\n",
       "      <td>0</td>\n",
       "      <td>0</td>\n",
       "      <td>1353613872</td>\n",
       "      <td>49</td>\n",
       "      <td>372</td>\n",
       "      <td>30</td>\n",
       "      <td>188</td>\n",
       "      <td>44</td>\n",
       "      <td>...</td>\n",
       "      <td>6</td>\n",
       "      <td>0</td>\n",
       "      <td>0</td>\n",
       "      <td>0</td>\n",
       "      <td>0</td>\n",
       "      <td>0</td>\n",
       "      <td>0</td>\n",
       "      <td>0</td>\n",
       "      <td>2</td>\n",
       "      <td>1</td>\n",
       "    </tr>\n",
       "  </tbody>\n",
       "</table>\n",
       "<p>3 rows × 26 columns</p>\n",
       "</div>"
      ],
      "text/plain": [
       "   Year_Birth  Income  Kidhome  Teenhome  Dt_Customer  Recency  MntWines  \\\n",
       "2        1968   52186        0         0   1374184067       49       289   \n",
       "0        1968   53081        0         0   1394301947       48       248   \n",
       "1        1969   50657        0         0   1353613872       49       372   \n",
       "\n",
       "   MntFruits  MntMeatProducts  MntFishProducts  ...  NumWebVisitsMonth  \\\n",
       "2         23              157               34  ...                  5   \n",
       "0         24              153               33  ...                  4   \n",
       "1         30              188               44  ...                  6   \n",
       "\n",
       "   AcceptedCmp3  AcceptedCmp4  AcceptedCmp5  AcceptedCmp1  AcceptedCmp2  \\\n",
       "2             0             0             0             0             0   \n",
       "0             0             0             0             0             0   \n",
       "1             0             0             0             0             0   \n",
       "\n",
       "   Complain  Response  Education  Marital_Status  \n",
       "2         0         0          2               1  \n",
       "0         0         0          2               1  \n",
       "1         0         0          2               1  \n",
       "\n",
       "[3 rows x 26 columns]"
      ]
     },
     "execution_count": 34,
     "metadata": {},
     "output_type": "execute_result"
    }
   ],
   "source": [
    "centers_orig = pd.DataFrame(model_orig.cluster_centers_, columns = X.columns)\n",
    "centers_orig.sort_values('Year_Birth', inplace = True)\n",
    "centers_orig = centers_orig.astype(int)\n",
    "centers_orig"
   ]
  },
  {
   "cell_type": "code",
   "execution_count": 35,
   "id": "d5436cd9",
   "metadata": {
    "scrolled": false
   },
   "outputs": [
    {
     "data": {
      "text/html": [
       "<div>\n",
       "<style scoped>\n",
       "    .dataframe tbody tr th:only-of-type {\n",
       "        vertical-align: middle;\n",
       "    }\n",
       "\n",
       "    .dataframe tbody tr th {\n",
       "        vertical-align: top;\n",
       "    }\n",
       "\n",
       "    .dataframe thead th {\n",
       "        text-align: right;\n",
       "    }\n",
       "</style>\n",
       "<table border=\"1\" class=\"dataframe\">\n",
       "  <thead>\n",
       "    <tr style=\"text-align: right;\">\n",
       "      <th></th>\n",
       "      <th>Year_Birth</th>\n",
       "      <th>Income</th>\n",
       "      <th>Kidhome</th>\n",
       "      <th>Teenhome</th>\n",
       "      <th>Dt_Customer</th>\n",
       "      <th>Recency</th>\n",
       "      <th>MntWines</th>\n",
       "      <th>MntFruits</th>\n",
       "      <th>MntMeatProducts</th>\n",
       "      <th>MntFishProducts</th>\n",
       "      <th>...</th>\n",
       "      <th>NumWebVisitsMonth</th>\n",
       "      <th>AcceptedCmp3</th>\n",
       "      <th>AcceptedCmp4</th>\n",
       "      <th>AcceptedCmp5</th>\n",
       "      <th>AcceptedCmp1</th>\n",
       "      <th>AcceptedCmp2</th>\n",
       "      <th>Complain</th>\n",
       "      <th>Response</th>\n",
       "      <th>Education</th>\n",
       "      <th>Marital_Status</th>\n",
       "    </tr>\n",
       "  </thead>\n",
       "  <tbody>\n",
       "    <tr>\n",
       "      <th>0</th>\n",
       "      <td>0.255155</td>\n",
       "      <td>-0.799749</td>\n",
       "      <td>0.661044</td>\n",
       "      <td>-0.124092</td>\n",
       "      <td>0.156701</td>\n",
       "      <td>0.007279</td>\n",
       "      <td>-0.781609</td>\n",
       "      <td>-0.534319</td>\n",
       "      <td>-0.639239</td>\n",
       "      <td>-0.553393</td>\n",
       "      <td>...</td>\n",
       "      <td>0.474650</td>\n",
       "      <td>0.005813</td>\n",
       "      <td>-0.257137</td>\n",
       "      <td>-0.279508</td>\n",
       "      <td>-0.257178</td>\n",
       "      <td>-0.100459</td>\n",
       "      <td>0.028327</td>\n",
       "      <td>-0.156803</td>\n",
       "      <td>-0.107004</td>\n",
       "      <td>-0.004726</td>\n",
       "    </tr>\n",
       "    <tr>\n",
       "      <th>1</th>\n",
       "      <td>-0.013597</td>\n",
       "      <td>1.152336</td>\n",
       "      <td>-0.748969</td>\n",
       "      <td>-0.653620</td>\n",
       "      <td>-0.002730</td>\n",
       "      <td>0.016562</td>\n",
       "      <td>0.917677</td>\n",
       "      <td>1.063888</td>\n",
       "      <td>1.343056</td>\n",
       "      <td>1.150240</td>\n",
       "      <td>...</td>\n",
       "      <td>-1.050669</td>\n",
       "      <td>0.046879</td>\n",
       "      <td>0.205667</td>\n",
       "      <td>0.787231</td>\n",
       "      <td>0.652695</td>\n",
       "      <td>0.183224</td>\n",
       "      <td>-0.056944</td>\n",
       "      <td>0.421468</td>\n",
       "      <td>-0.049196</td>\n",
       "      <td>0.062680</td>\n",
       "    </tr>\n",
       "    <tr>\n",
       "      <th>2</th>\n",
       "      <td>-0.395850</td>\n",
       "      <td>0.294013</td>\n",
       "      <td>-0.416641</td>\n",
       "      <td>0.755779</td>\n",
       "      <td>-0.247902</td>\n",
       "      <td>-0.025753</td>\n",
       "      <td>0.465240</td>\n",
       "      <td>-0.054390</td>\n",
       "      <td>-0.125010</td>\n",
       "      <td>-0.097599</td>\n",
       "      <td>...</td>\n",
       "      <td>0.138395</td>\n",
       "      <td>-0.049277</td>\n",
       "      <td>0.235156</td>\n",
       "      <td>-0.225266</td>\n",
       "      <td>-0.146149</td>\n",
       "      <td>0.004108</td>\n",
       "      <td>0.003346</td>\n",
       "      <td>-0.109170</td>\n",
       "      <td>0.212842</td>\n",
       "      <td>-0.045928</td>\n",
       "    </tr>\n",
       "  </tbody>\n",
       "</table>\n",
       "<p>3 rows × 26 columns</p>\n",
       "</div>"
      ],
      "text/plain": [
       "   Year_Birth    Income   Kidhome  Teenhome  Dt_Customer   Recency  MntWines  \\\n",
       "0    0.255155 -0.799749  0.661044 -0.124092     0.156701  0.007279 -0.781609   \n",
       "1   -0.013597  1.152336 -0.748969 -0.653620    -0.002730  0.016562  0.917677   \n",
       "2   -0.395850  0.294013 -0.416641  0.755779    -0.247902 -0.025753  0.465240   \n",
       "\n",
       "   MntFruits  MntMeatProducts  MntFishProducts  ...  NumWebVisitsMonth  \\\n",
       "0  -0.534319        -0.639239        -0.553393  ...           0.474650   \n",
       "1   1.063888         1.343056         1.150240  ...          -1.050669   \n",
       "2  -0.054390        -0.125010        -0.097599  ...           0.138395   \n",
       "\n",
       "   AcceptedCmp3  AcceptedCmp4  AcceptedCmp5  AcceptedCmp1  AcceptedCmp2  \\\n",
       "0      0.005813     -0.257137     -0.279508     -0.257178     -0.100459   \n",
       "1      0.046879      0.205667      0.787231      0.652695      0.183224   \n",
       "2     -0.049277      0.235156     -0.225266     -0.146149      0.004108   \n",
       "\n",
       "   Complain  Response  Education  Marital_Status  \n",
       "0  0.028327 -0.156803  -0.107004       -0.004726  \n",
       "1 -0.056944  0.421468  -0.049196        0.062680  \n",
       "2  0.003346 -0.109170   0.212842       -0.045928  \n",
       "\n",
       "[3 rows x 26 columns]"
      ]
     },
     "execution_count": 35,
     "metadata": {},
     "output_type": "execute_result"
    }
   ],
   "source": [
    "centers_n = pd.DataFrame(model_n.cluster_centers_, columns = X.columns)\n",
    "centers_n"
   ]
  },
  {
   "cell_type": "code",
   "execution_count": 36,
   "id": "8c1b220e",
   "metadata": {},
   "outputs": [
    {
     "data": {
      "text/html": [
       "<div>\n",
       "<style scoped>\n",
       "    .dataframe tbody tr th:only-of-type {\n",
       "        vertical-align: middle;\n",
       "    }\n",
       "\n",
       "    .dataframe tbody tr th {\n",
       "        vertical-align: top;\n",
       "    }\n",
       "\n",
       "    .dataframe thead th {\n",
       "        text-align: right;\n",
       "    }\n",
       "</style>\n",
       "<table border=\"1\" class=\"dataframe\">\n",
       "  <thead>\n",
       "    <tr style=\"text-align: right;\">\n",
       "      <th></th>\n",
       "      <th>Year_Birth</th>\n",
       "      <th>Income</th>\n",
       "      <th>Kidhome</th>\n",
       "      <th>Teenhome</th>\n",
       "      <th>Dt_Customer</th>\n",
       "      <th>Recency</th>\n",
       "      <th>MntWines</th>\n",
       "      <th>MntFruits</th>\n",
       "      <th>MntMeatProducts</th>\n",
       "      <th>MntFishProducts</th>\n",
       "      <th>...</th>\n",
       "      <th>NumWebVisitsMonth</th>\n",
       "      <th>AcceptedCmp3</th>\n",
       "      <th>AcceptedCmp4</th>\n",
       "      <th>AcceptedCmp5</th>\n",
       "      <th>AcceptedCmp1</th>\n",
       "      <th>AcceptedCmp2</th>\n",
       "      <th>Complain</th>\n",
       "      <th>Response</th>\n",
       "      <th>Education</th>\n",
       "      <th>Marital_Status</th>\n",
       "    </tr>\n",
       "  </thead>\n",
       "  <tbody>\n",
       "    <tr>\n",
       "      <th>2</th>\n",
       "      <td>1964</td>\n",
       "      <td>58274</td>\n",
       "      <td>0</td>\n",
       "      <td>0</td>\n",
       "      <td>1369120027</td>\n",
       "      <td>48</td>\n",
       "      <td>462</td>\n",
       "      <td>24</td>\n",
       "      <td>138</td>\n",
       "      <td>32</td>\n",
       "      <td>...</td>\n",
       "      <td>5</td>\n",
       "      <td>0</td>\n",
       "      <td>0</td>\n",
       "      <td>0</td>\n",
       "      <td>0</td>\n",
       "      <td>0</td>\n",
       "      <td>0</td>\n",
       "      <td>0</td>\n",
       "      <td>2</td>\n",
       "      <td>1</td>\n",
       "    </tr>\n",
       "    <tr>\n",
       "      <th>1</th>\n",
       "      <td>1968</td>\n",
       "      <td>76755</td>\n",
       "      <td>0</td>\n",
       "      <td>0</td>\n",
       "      <td>1373407232</td>\n",
       "      <td>49</td>\n",
       "      <td>614</td>\n",
       "      <td>68</td>\n",
       "      <td>468</td>\n",
       "      <td>100</td>\n",
       "      <td>...</td>\n",
       "      <td>2</td>\n",
       "      <td>0</td>\n",
       "      <td>0</td>\n",
       "      <td>0</td>\n",
       "      <td>0</td>\n",
       "      <td>0</td>\n",
       "      <td>0</td>\n",
       "      <td>0</td>\n",
       "      <td>2</td>\n",
       "      <td>1</td>\n",
       "    </tr>\n",
       "    <tr>\n",
       "      <th>0</th>\n",
       "      <td>1971</td>\n",
       "      <td>34723</td>\n",
       "      <td>0</td>\n",
       "      <td>0</td>\n",
       "      <td>1376195132</td>\n",
       "      <td>49</td>\n",
       "      <td>41</td>\n",
       "      <td>5</td>\n",
       "      <td>23</td>\n",
       "      <td>7</td>\n",
       "      <td>...</td>\n",
       "      <td>6</td>\n",
       "      <td>0</td>\n",
       "      <td>0</td>\n",
       "      <td>0</td>\n",
       "      <td>0</td>\n",
       "      <td>0</td>\n",
       "      <td>0</td>\n",
       "      <td>0</td>\n",
       "      <td>2</td>\n",
       "      <td>1</td>\n",
       "    </tr>\n",
       "  </tbody>\n",
       "</table>\n",
       "<p>3 rows × 26 columns</p>\n",
       "</div>"
      ],
      "text/plain": [
       "   Year_Birth  Income  Kidhome  Teenhome  Dt_Customer  Recency  MntWines  \\\n",
       "2        1964   58274        0         0   1369120027       48       462   \n",
       "1        1968   76755        0         0   1373407232       49       614   \n",
       "0        1971   34723        0         0   1376195132       49        41   \n",
       "\n",
       "   MntFruits  MntMeatProducts  MntFishProducts  ...  NumWebVisitsMonth  \\\n",
       "2         24              138               32  ...                  5   \n",
       "1         68              468              100  ...                  2   \n",
       "0          5               23                7  ...                  6   \n",
       "\n",
       "   AcceptedCmp3  AcceptedCmp4  AcceptedCmp5  AcceptedCmp1  AcceptedCmp2  \\\n",
       "2             0             0             0             0             0   \n",
       "1             0             0             0             0             0   \n",
       "0             0             0             0             0             0   \n",
       "\n",
       "   Complain  Response  Education  Marital_Status  \n",
       "2         0         0          2               1  \n",
       "1         0         0          2               1  \n",
       "0         0         0          2               1  \n",
       "\n",
       "[3 rows x 26 columns]"
      ]
     },
     "execution_count": 36,
     "metadata": {},
     "output_type": "execute_result"
    }
   ],
   "source": [
    "centers_r = pd.DataFrame(scaler.inverse_transform(centers_n), columns = X.columns)\n",
    "centers_r.sort_values('Year_Birth', inplace = True)\n",
    "centers_r = centers_r.astype(int)\n",
    "centers_r"
   ]
  },
  {
   "cell_type": "markdown",
   "id": "c78b4ee0",
   "metadata": {},
   "source": [
    "### Evaluation"
   ]
  },
  {
   "cell_type": "code",
   "execution_count": 37,
   "id": "1714bab5",
   "metadata": {},
   "outputs": [],
   "source": [
    "#model.labels_"
   ]
  },
  {
   "cell_type": "code",
   "execution_count": 38,
   "id": "82a38d22",
   "metadata": {},
   "outputs": [
    {
     "data": {
      "text/plain": [
       "0.59"
      ]
     },
     "execution_count": 38,
     "metadata": {},
     "output_type": "execute_result"
    }
   ],
   "source": [
    "sil_orig = silhouette_score(X, model_orig.labels_)\n",
    "round(sil_orig, 2)"
   ]
  },
  {
   "cell_type": "code",
   "execution_count": 39,
   "id": "297cb47f",
   "metadata": {},
   "outputs": [
    {
     "data": {
      "text/plain": [
       "0.16"
      ]
     },
     "execution_count": 39,
     "metadata": {},
     "output_type": "execute_result"
    }
   ],
   "source": [
    "sil_n = silhouette_score(X_n, model_n.labels_)\n",
    "round(sil_n, 2)"
   ]
  }
 ],
 "metadata": {
  "kernelspec": {
   "display_name": "Python 3 (ipykernel)",
   "language": "python",
   "name": "python3"
  },
  "language_info": {
   "codemirror_mode": {
    "name": "ipython",
    "version": 3
   },
   "file_extension": ".py",
   "mimetype": "text/x-python",
   "name": "python",
   "nbconvert_exporter": "python",
   "pygments_lexer": "ipython3",
   "version": "3.9.13"
  }
 },
 "nbformat": 4,
 "nbformat_minor": 5
}
