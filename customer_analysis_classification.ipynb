{
 "cells": [
  {
   "cell_type": "markdown",
   "id": "be1e1d2d",
   "metadata": {},
   "source": [
    "# LIBRARIES IMPORT"
   ]
  },
  {
   "cell_type": "code",
   "execution_count": 1,
   "id": "67075ed9",
   "metadata": {},
   "outputs": [],
   "source": [
    "import pandas as pd\n",
    "import matplotlib.pyplot as plt\n",
    "\n",
    "from datetime import date"
   ]
  },
  {
   "cell_type": "markdown",
   "id": "dbdb3885",
   "metadata": {},
   "source": [
    "# DATA IMPORT"
   ]
  },
  {
   "cell_type": "code",
   "execution_count": 2,
   "id": "fdead6eb",
   "metadata": {},
   "outputs": [],
   "source": [
    "df = pd.read_csv('marketing_campaign.csv', sep = '\\t')"
   ]
  },
  {
   "cell_type": "markdown",
   "id": "b96468e1",
   "metadata": {},
   "source": [
    "# DATA EXPLORATION"
   ]
  },
  {
   "cell_type": "code",
   "execution_count": 3,
   "id": "74469f94",
   "metadata": {},
   "outputs": [
    {
     "data": {
      "text/html": [
       "<div>\n",
       "<style scoped>\n",
       "    .dataframe tbody tr th:only-of-type {\n",
       "        vertical-align: middle;\n",
       "    }\n",
       "\n",
       "    .dataframe tbody tr th {\n",
       "        vertical-align: top;\n",
       "    }\n",
       "\n",
       "    .dataframe thead th {\n",
       "        text-align: right;\n",
       "    }\n",
       "</style>\n",
       "<table border=\"1\" class=\"dataframe\">\n",
       "  <thead>\n",
       "    <tr style=\"text-align: right;\">\n",
       "      <th></th>\n",
       "      <th>ID</th>\n",
       "      <th>Year_Birth</th>\n",
       "      <th>Education</th>\n",
       "      <th>Marital_Status</th>\n",
       "      <th>Income</th>\n",
       "      <th>Kidhome</th>\n",
       "      <th>Teenhome</th>\n",
       "      <th>Dt_Customer</th>\n",
       "      <th>Recency</th>\n",
       "      <th>MntWines</th>\n",
       "      <th>...</th>\n",
       "      <th>NumWebVisitsMonth</th>\n",
       "      <th>AcceptedCmp3</th>\n",
       "      <th>AcceptedCmp4</th>\n",
       "      <th>AcceptedCmp5</th>\n",
       "      <th>AcceptedCmp1</th>\n",
       "      <th>AcceptedCmp2</th>\n",
       "      <th>Complain</th>\n",
       "      <th>Z_CostContact</th>\n",
       "      <th>Z_Revenue</th>\n",
       "      <th>Response</th>\n",
       "    </tr>\n",
       "  </thead>\n",
       "  <tbody>\n",
       "    <tr>\n",
       "      <th>0</th>\n",
       "      <td>5524</td>\n",
       "      <td>1957</td>\n",
       "      <td>Graduation</td>\n",
       "      <td>Single</td>\n",
       "      <td>58138.0</td>\n",
       "      <td>0</td>\n",
       "      <td>0</td>\n",
       "      <td>04-09-2012</td>\n",
       "      <td>58</td>\n",
       "      <td>635</td>\n",
       "      <td>...</td>\n",
       "      <td>7</td>\n",
       "      <td>0</td>\n",
       "      <td>0</td>\n",
       "      <td>0</td>\n",
       "      <td>0</td>\n",
       "      <td>0</td>\n",
       "      <td>0</td>\n",
       "      <td>3</td>\n",
       "      <td>11</td>\n",
       "      <td>1</td>\n",
       "    </tr>\n",
       "    <tr>\n",
       "      <th>1</th>\n",
       "      <td>2174</td>\n",
       "      <td>1954</td>\n",
       "      <td>Graduation</td>\n",
       "      <td>Single</td>\n",
       "      <td>46344.0</td>\n",
       "      <td>1</td>\n",
       "      <td>1</td>\n",
       "      <td>08-03-2014</td>\n",
       "      <td>38</td>\n",
       "      <td>11</td>\n",
       "      <td>...</td>\n",
       "      <td>5</td>\n",
       "      <td>0</td>\n",
       "      <td>0</td>\n",
       "      <td>0</td>\n",
       "      <td>0</td>\n",
       "      <td>0</td>\n",
       "      <td>0</td>\n",
       "      <td>3</td>\n",
       "      <td>11</td>\n",
       "      <td>0</td>\n",
       "    </tr>\n",
       "    <tr>\n",
       "      <th>2</th>\n",
       "      <td>4141</td>\n",
       "      <td>1965</td>\n",
       "      <td>Graduation</td>\n",
       "      <td>Together</td>\n",
       "      <td>71613.0</td>\n",
       "      <td>0</td>\n",
       "      <td>0</td>\n",
       "      <td>21-08-2013</td>\n",
       "      <td>26</td>\n",
       "      <td>426</td>\n",
       "      <td>...</td>\n",
       "      <td>4</td>\n",
       "      <td>0</td>\n",
       "      <td>0</td>\n",
       "      <td>0</td>\n",
       "      <td>0</td>\n",
       "      <td>0</td>\n",
       "      <td>0</td>\n",
       "      <td>3</td>\n",
       "      <td>11</td>\n",
       "      <td>0</td>\n",
       "    </tr>\n",
       "    <tr>\n",
       "      <th>3</th>\n",
       "      <td>6182</td>\n",
       "      <td>1984</td>\n",
       "      <td>Graduation</td>\n",
       "      <td>Together</td>\n",
       "      <td>26646.0</td>\n",
       "      <td>1</td>\n",
       "      <td>0</td>\n",
       "      <td>10-02-2014</td>\n",
       "      <td>26</td>\n",
       "      <td>11</td>\n",
       "      <td>...</td>\n",
       "      <td>6</td>\n",
       "      <td>0</td>\n",
       "      <td>0</td>\n",
       "      <td>0</td>\n",
       "      <td>0</td>\n",
       "      <td>0</td>\n",
       "      <td>0</td>\n",
       "      <td>3</td>\n",
       "      <td>11</td>\n",
       "      <td>0</td>\n",
       "    </tr>\n",
       "    <tr>\n",
       "      <th>4</th>\n",
       "      <td>5324</td>\n",
       "      <td>1981</td>\n",
       "      <td>PhD</td>\n",
       "      <td>Married</td>\n",
       "      <td>58293.0</td>\n",
       "      <td>1</td>\n",
       "      <td>0</td>\n",
       "      <td>19-01-2014</td>\n",
       "      <td>94</td>\n",
       "      <td>173</td>\n",
       "      <td>...</td>\n",
       "      <td>5</td>\n",
       "      <td>0</td>\n",
       "      <td>0</td>\n",
       "      <td>0</td>\n",
       "      <td>0</td>\n",
       "      <td>0</td>\n",
       "      <td>0</td>\n",
       "      <td>3</td>\n",
       "      <td>11</td>\n",
       "      <td>0</td>\n",
       "    </tr>\n",
       "  </tbody>\n",
       "</table>\n",
       "<p>5 rows × 29 columns</p>\n",
       "</div>"
      ],
      "text/plain": [
       "     ID  Year_Birth   Education Marital_Status   Income  Kidhome  Teenhome  \\\n",
       "0  5524        1957  Graduation         Single  58138.0        0         0   \n",
       "1  2174        1954  Graduation         Single  46344.0        1         1   \n",
       "2  4141        1965  Graduation       Together  71613.0        0         0   \n",
       "3  6182        1984  Graduation       Together  26646.0        1         0   \n",
       "4  5324        1981         PhD        Married  58293.0        1         0   \n",
       "\n",
       "  Dt_Customer  Recency  MntWines  ...  NumWebVisitsMonth  AcceptedCmp3  \\\n",
       "0  04-09-2012       58       635  ...                  7             0   \n",
       "1  08-03-2014       38        11  ...                  5             0   \n",
       "2  21-08-2013       26       426  ...                  4             0   \n",
       "3  10-02-2014       26        11  ...                  6             0   \n",
       "4  19-01-2014       94       173  ...                  5             0   \n",
       "\n",
       "   AcceptedCmp4  AcceptedCmp5  AcceptedCmp1  AcceptedCmp2  Complain  \\\n",
       "0             0             0             0             0         0   \n",
       "1             0             0             0             0         0   \n",
       "2             0             0             0             0         0   \n",
       "3             0             0             0             0         0   \n",
       "4             0             0             0             0         0   \n",
       "\n",
       "   Z_CostContact  Z_Revenue  Response  \n",
       "0              3         11         1  \n",
       "1              3         11         0  \n",
       "2              3         11         0  \n",
       "3              3         11         0  \n",
       "4              3         11         0  \n",
       "\n",
       "[5 rows x 29 columns]"
      ]
     },
     "execution_count": 3,
     "metadata": {},
     "output_type": "execute_result"
    }
   ],
   "source": [
    "df.head()"
   ]
  },
  {
   "cell_type": "markdown",
   "id": "7b7e316e",
   "metadata": {},
   "source": [
    "# DATA PROCESSING"
   ]
  },
  {
   "cell_type": "code",
   "execution_count": 4,
   "id": "786dd920",
   "metadata": {},
   "outputs": [],
   "source": [
    "df_p = df.drop(df[df.Year_Birth < 1920].index)"
   ]
  },
  {
   "cell_type": "code",
   "execution_count": 5,
   "id": "daf796c7",
   "metadata": {},
   "outputs": [],
   "source": [
    "df_p.drop(df[df.Marital_Status =='Absurd'].index, inplace = True)\n",
    "df_p.drop(df[df.Marital_Status =='YOLO'].index, inplace = True)\n",
    "df_p.replace('Alone', 'Single', inplace = True)"
   ]
  },
  {
   "cell_type": "code",
   "execution_count": 6,
   "id": "60821de9",
   "metadata": {},
   "outputs": [],
   "source": [
    "df_p.drop(df[df.Income == 666666].index, inplace = True)"
   ]
  },
  {
   "cell_type": "code",
   "execution_count": 7,
   "id": "33d34e32",
   "metadata": {},
   "outputs": [],
   "source": [
    "df_p.dropna(inplace=True)"
   ]
  },
  {
   "cell_type": "markdown",
   "id": "60a349e4",
   "metadata": {},
   "source": [
    "# FEATURE ENGINEERING"
   ]
  },
  {
   "cell_type": "code",
   "execution_count": 8,
   "id": "a8904bba",
   "metadata": {},
   "outputs": [],
   "source": [
    "#Get columns names to slice df to X below\n",
    "\n",
    "#col = df.columns\n",
    "#col"
   ]
  },
  {
   "cell_type": "code",
   "execution_count": 9,
   "id": "fbee0861",
   "metadata": {},
   "outputs": [
    {
     "data": {
      "text/html": [
       "<div>\n",
       "<style scoped>\n",
       "    .dataframe tbody tr th:only-of-type {\n",
       "        vertical-align: middle;\n",
       "    }\n",
       "\n",
       "    .dataframe tbody tr th {\n",
       "        vertical-align: top;\n",
       "    }\n",
       "\n",
       "    .dataframe thead th {\n",
       "        text-align: right;\n",
       "    }\n",
       "</style>\n",
       "<table border=\"1\" class=\"dataframe\">\n",
       "  <thead>\n",
       "    <tr style=\"text-align: right;\">\n",
       "      <th></th>\n",
       "      <th>Year_Birth</th>\n",
       "      <th>Income</th>\n",
       "      <th>Kidhome</th>\n",
       "      <th>Teenhome</th>\n",
       "      <th>Recency</th>\n",
       "      <th>MntWines</th>\n",
       "      <th>MntFruits</th>\n",
       "      <th>MntMeatProducts</th>\n",
       "      <th>MntFishProducts</th>\n",
       "      <th>MntSweetProducts</th>\n",
       "      <th>...</th>\n",
       "      <th>NumCatalogPurchases</th>\n",
       "      <th>NumStorePurchases</th>\n",
       "      <th>NumWebVisitsMonth</th>\n",
       "      <th>AcceptedCmp3</th>\n",
       "      <th>AcceptedCmp4</th>\n",
       "      <th>AcceptedCmp5</th>\n",
       "      <th>AcceptedCmp1</th>\n",
       "      <th>AcceptedCmp2</th>\n",
       "      <th>Complain</th>\n",
       "      <th>Response</th>\n",
       "    </tr>\n",
       "  </thead>\n",
       "  <tbody>\n",
       "    <tr>\n",
       "      <th>0</th>\n",
       "      <td>1957</td>\n",
       "      <td>58138.0</td>\n",
       "      <td>0</td>\n",
       "      <td>0</td>\n",
       "      <td>58</td>\n",
       "      <td>635</td>\n",
       "      <td>88</td>\n",
       "      <td>546</td>\n",
       "      <td>172</td>\n",
       "      <td>88</td>\n",
       "      <td>...</td>\n",
       "      <td>10</td>\n",
       "      <td>4</td>\n",
       "      <td>7</td>\n",
       "      <td>0</td>\n",
       "      <td>0</td>\n",
       "      <td>0</td>\n",
       "      <td>0</td>\n",
       "      <td>0</td>\n",
       "      <td>0</td>\n",
       "      <td>1</td>\n",
       "    </tr>\n",
       "    <tr>\n",
       "      <th>1</th>\n",
       "      <td>1954</td>\n",
       "      <td>46344.0</td>\n",
       "      <td>1</td>\n",
       "      <td>1</td>\n",
       "      <td>38</td>\n",
       "      <td>11</td>\n",
       "      <td>1</td>\n",
       "      <td>6</td>\n",
       "      <td>2</td>\n",
       "      <td>1</td>\n",
       "      <td>...</td>\n",
       "      <td>1</td>\n",
       "      <td>2</td>\n",
       "      <td>5</td>\n",
       "      <td>0</td>\n",
       "      <td>0</td>\n",
       "      <td>0</td>\n",
       "      <td>0</td>\n",
       "      <td>0</td>\n",
       "      <td>0</td>\n",
       "      <td>0</td>\n",
       "    </tr>\n",
       "    <tr>\n",
       "      <th>2</th>\n",
       "      <td>1965</td>\n",
       "      <td>71613.0</td>\n",
       "      <td>0</td>\n",
       "      <td>0</td>\n",
       "      <td>26</td>\n",
       "      <td>426</td>\n",
       "      <td>49</td>\n",
       "      <td>127</td>\n",
       "      <td>111</td>\n",
       "      <td>21</td>\n",
       "      <td>...</td>\n",
       "      <td>2</td>\n",
       "      <td>10</td>\n",
       "      <td>4</td>\n",
       "      <td>0</td>\n",
       "      <td>0</td>\n",
       "      <td>0</td>\n",
       "      <td>0</td>\n",
       "      <td>0</td>\n",
       "      <td>0</td>\n",
       "      <td>0</td>\n",
       "    </tr>\n",
       "    <tr>\n",
       "      <th>3</th>\n",
       "      <td>1984</td>\n",
       "      <td>26646.0</td>\n",
       "      <td>1</td>\n",
       "      <td>0</td>\n",
       "      <td>26</td>\n",
       "      <td>11</td>\n",
       "      <td>4</td>\n",
       "      <td>20</td>\n",
       "      <td>10</td>\n",
       "      <td>3</td>\n",
       "      <td>...</td>\n",
       "      <td>0</td>\n",
       "      <td>4</td>\n",
       "      <td>6</td>\n",
       "      <td>0</td>\n",
       "      <td>0</td>\n",
       "      <td>0</td>\n",
       "      <td>0</td>\n",
       "      <td>0</td>\n",
       "      <td>0</td>\n",
       "      <td>0</td>\n",
       "    </tr>\n",
       "    <tr>\n",
       "      <th>4</th>\n",
       "      <td>1981</td>\n",
       "      <td>58293.0</td>\n",
       "      <td>1</td>\n",
       "      <td>0</td>\n",
       "      <td>94</td>\n",
       "      <td>173</td>\n",
       "      <td>43</td>\n",
       "      <td>118</td>\n",
       "      <td>46</td>\n",
       "      <td>27</td>\n",
       "      <td>...</td>\n",
       "      <td>3</td>\n",
       "      <td>6</td>\n",
       "      <td>5</td>\n",
       "      <td>0</td>\n",
       "      <td>0</td>\n",
       "      <td>0</td>\n",
       "      <td>0</td>\n",
       "      <td>0</td>\n",
       "      <td>0</td>\n",
       "      <td>0</td>\n",
       "    </tr>\n",
       "  </tbody>\n",
       "</table>\n",
       "<p>5 rows × 23 columns</p>\n",
       "</div>"
      ],
      "text/plain": [
       "   Year_Birth   Income  Kidhome  Teenhome  Recency  MntWines  MntFruits  \\\n",
       "0        1957  58138.0        0         0       58       635         88   \n",
       "1        1954  46344.0        1         1       38        11          1   \n",
       "2        1965  71613.0        0         0       26       426         49   \n",
       "3        1984  26646.0        1         0       26        11          4   \n",
       "4        1981  58293.0        1         0       94       173         43   \n",
       "\n",
       "   MntMeatProducts  MntFishProducts  MntSweetProducts  ...  \\\n",
       "0              546              172                88  ...   \n",
       "1                6                2                 1  ...   \n",
       "2              127              111                21  ...   \n",
       "3               20               10                 3  ...   \n",
       "4              118               46                27  ...   \n",
       "\n",
       "   NumCatalogPurchases  NumStorePurchases  NumWebVisitsMonth  AcceptedCmp3  \\\n",
       "0                   10                  4                  7             0   \n",
       "1                    1                  2                  5             0   \n",
       "2                    2                 10                  4             0   \n",
       "3                    0                  4                  6             0   \n",
       "4                    3                  6                  5             0   \n",
       "\n",
       "   AcceptedCmp4  AcceptedCmp5  AcceptedCmp1  AcceptedCmp2  Complain  Response  \n",
       "0             0             0             0             0         0         1  \n",
       "1             0             0             0             0         0         0  \n",
       "2             0             0             0             0         0         0  \n",
       "3             0             0             0             0         0         0  \n",
       "4             0             0             0             0         0         0  \n",
       "\n",
       "[5 rows x 23 columns]"
      ]
     },
     "execution_count": 9,
     "metadata": {},
     "output_type": "execute_result"
    }
   ],
   "source": [
    "#Slice df to define X matrix of features\n",
    "\n",
    "X = df_p[['Year_Birth', 'Income', 'Kidhome', 'Teenhome', 'Recency', 'MntWines', 'MntFruits', 'MntMeatProducts', 'MntFishProducts', 'MntSweetProducts', 'MntGoldProds', 'NumDealsPurchases', 'NumWebPurchases', 'NumCatalogPurchases', 'NumStorePurchases', 'NumWebVisitsMonth', 'AcceptedCmp3', 'AcceptedCmp4', 'AcceptedCmp5', 'AcceptedCmp1', 'AcceptedCmp2', 'Complain', 'Response']]\n",
    "X.head()"
   ]
  },
  {
   "cell_type": "code",
   "execution_count": 10,
   "id": "8ab5ed32",
   "metadata": {},
   "outputs": [],
   "source": [
    "import seaborn as sns"
   ]
  },
  {
   "cell_type": "code",
   "execution_count": 11,
   "id": "d12c7ad2",
   "metadata": {},
   "outputs": [
    {
     "data": {
      "text/plain": [
       "<Figure size 2000x2000 with 0 Axes>"
      ]
     },
     "metadata": {},
     "output_type": "display_data"
    }
   ],
   "source": [
    "fig = plt.figure(figsize=(20, 20))\n",
    "\n",
    "#sns.heatmap(X.corr(), annot = True, fmt=\".1f\")"
   ]
  },
  {
   "cell_type": "code",
   "execution_count": 12,
   "id": "3f04e38b",
   "metadata": {},
   "outputs": [],
   "source": [
    "from sklearn.preprocessing import normalize, StandardScaler, MaxAbsScaler"
   ]
  },
  {
   "cell_type": "code",
   "execution_count": 13,
   "id": "03e0fd8b",
   "metadata": {},
   "outputs": [],
   "source": [
    "#X_n = pd.DataFrame(normalize(X, axis = 0), columns = X.columns)\n",
    "scaler = StandardScaler()\n",
    "#scaler = MaxAbsScaler()\n",
    "#scaler"
   ]
  },
  {
   "cell_type": "code",
   "execution_count": 14,
   "id": "d91e6169",
   "metadata": {},
   "outputs": [
    {
     "data": {
      "text/plain": [
       "StandardScaler()"
      ]
     },
     "execution_count": 14,
     "metadata": {},
     "output_type": "execute_result"
    }
   ],
   "source": [
    "#scaler.fit(X[['Year_Birth']])\n",
    "scaler.fit(X)"
   ]
  },
  {
   "cell_type": "code",
   "execution_count": 15,
   "id": "5888215b",
   "metadata": {},
   "outputs": [],
   "source": [
    "#scaler.mean_"
   ]
  },
  {
   "cell_type": "code",
   "execution_count": 16,
   "id": "6084dc96",
   "metadata": {},
   "outputs": [
    {
     "data": {
      "text/html": [
       "<div>\n",
       "<style scoped>\n",
       "    .dataframe tbody tr th:only-of-type {\n",
       "        vertical-align: middle;\n",
       "    }\n",
       "\n",
       "    .dataframe tbody tr th {\n",
       "        vertical-align: top;\n",
       "    }\n",
       "\n",
       "    .dataframe thead th {\n",
       "        text-align: right;\n",
       "    }\n",
       "</style>\n",
       "<table border=\"1\" class=\"dataframe\">\n",
       "  <thead>\n",
       "    <tr style=\"text-align: right;\">\n",
       "      <th></th>\n",
       "      <th>Year_Birth</th>\n",
       "      <th>Income</th>\n",
       "      <th>Kidhome</th>\n",
       "      <th>Teenhome</th>\n",
       "      <th>Recency</th>\n",
       "      <th>MntWines</th>\n",
       "      <th>MntFruits</th>\n",
       "      <th>MntMeatProducts</th>\n",
       "      <th>MntFishProducts</th>\n",
       "      <th>MntSweetProducts</th>\n",
       "      <th>...</th>\n",
       "      <th>NumCatalogPurchases</th>\n",
       "      <th>NumStorePurchases</th>\n",
       "      <th>NumWebVisitsMonth</th>\n",
       "      <th>AcceptedCmp3</th>\n",
       "      <th>AcceptedCmp4</th>\n",
       "      <th>AcceptedCmp5</th>\n",
       "      <th>AcceptedCmp1</th>\n",
       "      <th>AcceptedCmp2</th>\n",
       "      <th>Complain</th>\n",
       "      <th>Response</th>\n",
       "    </tr>\n",
       "  </thead>\n",
       "  <tbody>\n",
       "    <tr>\n",
       "      <th>0</th>\n",
       "      <td>1957</td>\n",
       "      <td>58138.0</td>\n",
       "      <td>0</td>\n",
       "      <td>0</td>\n",
       "      <td>58</td>\n",
       "      <td>635</td>\n",
       "      <td>88</td>\n",
       "      <td>546</td>\n",
       "      <td>172</td>\n",
       "      <td>88</td>\n",
       "      <td>...</td>\n",
       "      <td>10</td>\n",
       "      <td>4</td>\n",
       "      <td>7</td>\n",
       "      <td>0</td>\n",
       "      <td>0</td>\n",
       "      <td>0</td>\n",
       "      <td>0</td>\n",
       "      <td>0</td>\n",
       "      <td>0</td>\n",
       "      <td>1</td>\n",
       "    </tr>\n",
       "    <tr>\n",
       "      <th>1</th>\n",
       "      <td>1954</td>\n",
       "      <td>46344.0</td>\n",
       "      <td>1</td>\n",
       "      <td>1</td>\n",
       "      <td>38</td>\n",
       "      <td>11</td>\n",
       "      <td>1</td>\n",
       "      <td>6</td>\n",
       "      <td>2</td>\n",
       "      <td>1</td>\n",
       "      <td>...</td>\n",
       "      <td>1</td>\n",
       "      <td>2</td>\n",
       "      <td>5</td>\n",
       "      <td>0</td>\n",
       "      <td>0</td>\n",
       "      <td>0</td>\n",
       "      <td>0</td>\n",
       "      <td>0</td>\n",
       "      <td>0</td>\n",
       "      <td>0</td>\n",
       "    </tr>\n",
       "    <tr>\n",
       "      <th>2</th>\n",
       "      <td>1965</td>\n",
       "      <td>71613.0</td>\n",
       "      <td>0</td>\n",
       "      <td>0</td>\n",
       "      <td>26</td>\n",
       "      <td>426</td>\n",
       "      <td>49</td>\n",
       "      <td>127</td>\n",
       "      <td>111</td>\n",
       "      <td>21</td>\n",
       "      <td>...</td>\n",
       "      <td>2</td>\n",
       "      <td>10</td>\n",
       "      <td>4</td>\n",
       "      <td>0</td>\n",
       "      <td>0</td>\n",
       "      <td>0</td>\n",
       "      <td>0</td>\n",
       "      <td>0</td>\n",
       "      <td>0</td>\n",
       "      <td>0</td>\n",
       "    </tr>\n",
       "    <tr>\n",
       "      <th>3</th>\n",
       "      <td>1984</td>\n",
       "      <td>26646.0</td>\n",
       "      <td>1</td>\n",
       "      <td>0</td>\n",
       "      <td>26</td>\n",
       "      <td>11</td>\n",
       "      <td>4</td>\n",
       "      <td>20</td>\n",
       "      <td>10</td>\n",
       "      <td>3</td>\n",
       "      <td>...</td>\n",
       "      <td>0</td>\n",
       "      <td>4</td>\n",
       "      <td>6</td>\n",
       "      <td>0</td>\n",
       "      <td>0</td>\n",
       "      <td>0</td>\n",
       "      <td>0</td>\n",
       "      <td>0</td>\n",
       "      <td>0</td>\n",
       "      <td>0</td>\n",
       "    </tr>\n",
       "    <tr>\n",
       "      <th>4</th>\n",
       "      <td>1981</td>\n",
       "      <td>58293.0</td>\n",
       "      <td>1</td>\n",
       "      <td>0</td>\n",
       "      <td>94</td>\n",
       "      <td>173</td>\n",
       "      <td>43</td>\n",
       "      <td>118</td>\n",
       "      <td>46</td>\n",
       "      <td>27</td>\n",
       "      <td>...</td>\n",
       "      <td>3</td>\n",
       "      <td>6</td>\n",
       "      <td>5</td>\n",
       "      <td>0</td>\n",
       "      <td>0</td>\n",
       "      <td>0</td>\n",
       "      <td>0</td>\n",
       "      <td>0</td>\n",
       "      <td>0</td>\n",
       "      <td>0</td>\n",
       "    </tr>\n",
       "  </tbody>\n",
       "</table>\n",
       "<p>5 rows × 23 columns</p>\n",
       "</div>"
      ],
      "text/plain": [
       "   Year_Birth   Income  Kidhome  Teenhome  Recency  MntWines  MntFruits  \\\n",
       "0        1957  58138.0        0         0       58       635         88   \n",
       "1        1954  46344.0        1         1       38        11          1   \n",
       "2        1965  71613.0        0         0       26       426         49   \n",
       "3        1984  26646.0        1         0       26        11          4   \n",
       "4        1981  58293.0        1         0       94       173         43   \n",
       "\n",
       "   MntMeatProducts  MntFishProducts  MntSweetProducts  ...  \\\n",
       "0              546              172                88  ...   \n",
       "1                6                2                 1  ...   \n",
       "2              127              111                21  ...   \n",
       "3               20               10                 3  ...   \n",
       "4              118               46                27  ...   \n",
       "\n",
       "   NumCatalogPurchases  NumStorePurchases  NumWebVisitsMonth  AcceptedCmp3  \\\n",
       "0                   10                  4                  7             0   \n",
       "1                    1                  2                  5             0   \n",
       "2                    2                 10                  4             0   \n",
       "3                    0                  4                  6             0   \n",
       "4                    3                  6                  5             0   \n",
       "\n",
       "   AcceptedCmp4  AcceptedCmp5  AcceptedCmp1  AcceptedCmp2  Complain  Response  \n",
       "0             0             0             0             0         0         1  \n",
       "1             0             0             0             0         0         0  \n",
       "2             0             0             0             0         0         0  \n",
       "3             0             0             0             0         0         0  \n",
       "4             0             0             0             0         0         0  \n",
       "\n",
       "[5 rows x 23 columns]"
      ]
     },
     "execution_count": 16,
     "metadata": {},
     "output_type": "execute_result"
    }
   ],
   "source": [
    "X.head()"
   ]
  },
  {
   "cell_type": "code",
   "execution_count": 17,
   "id": "bd72918f",
   "metadata": {},
   "outputs": [
    {
     "data": {
      "text/html": [
       "<div>\n",
       "<style scoped>\n",
       "    .dataframe tbody tr th:only-of-type {\n",
       "        vertical-align: middle;\n",
       "    }\n",
       "\n",
       "    .dataframe tbody tr th {\n",
       "        vertical-align: top;\n",
       "    }\n",
       "\n",
       "    .dataframe thead th {\n",
       "        text-align: right;\n",
       "    }\n",
       "</style>\n",
       "<table border=\"1\" class=\"dataframe\">\n",
       "  <thead>\n",
       "    <tr style=\"text-align: right;\">\n",
       "      <th></th>\n",
       "      <th>Year_Birth</th>\n",
       "      <th>Income</th>\n",
       "      <th>Kidhome</th>\n",
       "      <th>Teenhome</th>\n",
       "      <th>Recency</th>\n",
       "      <th>MntWines</th>\n",
       "      <th>MntFruits</th>\n",
       "      <th>MntMeatProducts</th>\n",
       "      <th>MntFishProducts</th>\n",
       "      <th>MntSweetProducts</th>\n",
       "      <th>...</th>\n",
       "      <th>NumCatalogPurchases</th>\n",
       "      <th>NumStorePurchases</th>\n",
       "      <th>NumWebVisitsMonth</th>\n",
       "      <th>AcceptedCmp3</th>\n",
       "      <th>AcceptedCmp4</th>\n",
       "      <th>AcceptedCmp5</th>\n",
       "      <th>AcceptedCmp1</th>\n",
       "      <th>AcceptedCmp2</th>\n",
       "      <th>Complain</th>\n",
       "      <th>Response</th>\n",
       "    </tr>\n",
       "  </thead>\n",
       "  <tbody>\n",
       "    <tr>\n",
       "      <th>0</th>\n",
       "      <td>-1.017915</td>\n",
       "      <td>0.287689</td>\n",
       "      <td>-0.824004</td>\n",
       "      <td>-0.929587</td>\n",
       "      <td>0.309118</td>\n",
       "      <td>0.977018</td>\n",
       "      <td>1.553315</td>\n",
       "      <td>1.689944</td>\n",
       "      <td>2.464405</td>\n",
       "      <td>1.482521</td>\n",
       "      <td>...</td>\n",
       "      <td>2.506603</td>\n",
       "      <td>-0.555083</td>\n",
       "      <td>0.692301</td>\n",
       "      <td>-0.282324</td>\n",
       "      <td>-0.283258</td>\n",
       "      <td>-0.279508</td>\n",
       "      <td>-0.26118</td>\n",
       "      <td>-0.117363</td>\n",
       "      <td>-0.095607</td>\n",
       "      <td>2.381322</td>\n",
       "    </tr>\n",
       "    <tr>\n",
       "      <th>1</th>\n",
       "      <td>-1.274437</td>\n",
       "      <td>-0.260057</td>\n",
       "      <td>1.038228</td>\n",
       "      <td>0.907950</td>\n",
       "      <td>-0.382230</td>\n",
       "      <td>-0.871705</td>\n",
       "      <td>-0.636864</td>\n",
       "      <td>-0.717917</td>\n",
       "      <td>-0.651086</td>\n",
       "      <td>-0.634157</td>\n",
       "      <td>...</td>\n",
       "      <td>-0.570823</td>\n",
       "      <td>-1.169892</td>\n",
       "      <td>-0.133077</td>\n",
       "      <td>-0.282324</td>\n",
       "      <td>-0.283258</td>\n",
       "      <td>-0.279508</td>\n",
       "      <td>-0.26118</td>\n",
       "      <td>-0.117363</td>\n",
       "      <td>-0.095607</td>\n",
       "      <td>-0.419935</td>\n",
       "    </tr>\n",
       "    <tr>\n",
       "      <th>2</th>\n",
       "      <td>-0.333858</td>\n",
       "      <td>0.913505</td>\n",
       "      <td>-0.824004</td>\n",
       "      <td>-0.929587</td>\n",
       "      <td>-0.797039</td>\n",
       "      <td>0.357814</td>\n",
       "      <td>0.571511</td>\n",
       "      <td>-0.178378</td>\n",
       "      <td>1.346494</td>\n",
       "      <td>-0.147565</td>\n",
       "      <td>...</td>\n",
       "      <td>-0.228887</td>\n",
       "      <td>1.289346</td>\n",
       "      <td>-0.545767</td>\n",
       "      <td>-0.282324</td>\n",
       "      <td>-0.283258</td>\n",
       "      <td>-0.279508</td>\n",
       "      <td>-0.26118</td>\n",
       "      <td>-0.117363</td>\n",
       "      <td>-0.095607</td>\n",
       "      <td>-0.419935</td>\n",
       "    </tr>\n",
       "    <tr>\n",
       "      <th>3</th>\n",
       "      <td>1.290779</td>\n",
       "      <td>-1.174887</td>\n",
       "      <td>1.038228</td>\n",
       "      <td>-0.929587</td>\n",
       "      <td>-0.797039</td>\n",
       "      <td>-0.871705</td>\n",
       "      <td>-0.561341</td>\n",
       "      <td>-0.655491</td>\n",
       "      <td>-0.504474</td>\n",
       "      <td>-0.585498</td>\n",
       "      <td>...</td>\n",
       "      <td>-0.912759</td>\n",
       "      <td>-0.555083</td>\n",
       "      <td>0.279612</td>\n",
       "      <td>-0.282324</td>\n",
       "      <td>-0.283258</td>\n",
       "      <td>-0.279508</td>\n",
       "      <td>-0.26118</td>\n",
       "      <td>-0.117363</td>\n",
       "      <td>-0.095607</td>\n",
       "      <td>-0.419935</td>\n",
       "    </tr>\n",
       "    <tr>\n",
       "      <th>4</th>\n",
       "      <td>1.034258</td>\n",
       "      <td>0.294887</td>\n",
       "      <td>1.038228</td>\n",
       "      <td>-0.929587</td>\n",
       "      <td>1.553545</td>\n",
       "      <td>-0.391748</td>\n",
       "      <td>0.420464</td>\n",
       "      <td>-0.218509</td>\n",
       "      <td>0.155277</td>\n",
       "      <td>-0.001587</td>\n",
       "      <td>...</td>\n",
       "      <td>0.113050</td>\n",
       "      <td>0.059727</td>\n",
       "      <td>-0.133077</td>\n",
       "      <td>-0.282324</td>\n",
       "      <td>-0.283258</td>\n",
       "      <td>-0.279508</td>\n",
       "      <td>-0.26118</td>\n",
       "      <td>-0.117363</td>\n",
       "      <td>-0.095607</td>\n",
       "      <td>-0.419935</td>\n",
       "    </tr>\n",
       "  </tbody>\n",
       "</table>\n",
       "<p>5 rows × 23 columns</p>\n",
       "</div>"
      ],
      "text/plain": [
       "   Year_Birth    Income   Kidhome  Teenhome   Recency  MntWines  MntFruits  \\\n",
       "0   -1.017915  0.287689 -0.824004 -0.929587  0.309118  0.977018   1.553315   \n",
       "1   -1.274437 -0.260057  1.038228  0.907950 -0.382230 -0.871705  -0.636864   \n",
       "2   -0.333858  0.913505 -0.824004 -0.929587 -0.797039  0.357814   0.571511   \n",
       "3    1.290779 -1.174887  1.038228 -0.929587 -0.797039 -0.871705  -0.561341   \n",
       "4    1.034258  0.294887  1.038228 -0.929587  1.553545 -0.391748   0.420464   \n",
       "\n",
       "   MntMeatProducts  MntFishProducts  MntSweetProducts  ...  \\\n",
       "0         1.689944         2.464405          1.482521  ...   \n",
       "1        -0.717917        -0.651086         -0.634157  ...   \n",
       "2        -0.178378         1.346494         -0.147565  ...   \n",
       "3        -0.655491        -0.504474         -0.585498  ...   \n",
       "4        -0.218509         0.155277         -0.001587  ...   \n",
       "\n",
       "   NumCatalogPurchases  NumStorePurchases  NumWebVisitsMonth  AcceptedCmp3  \\\n",
       "0             2.506603          -0.555083           0.692301     -0.282324   \n",
       "1            -0.570823          -1.169892          -0.133077     -0.282324   \n",
       "2            -0.228887           1.289346          -0.545767     -0.282324   \n",
       "3            -0.912759          -0.555083           0.279612     -0.282324   \n",
       "4             0.113050           0.059727          -0.133077     -0.282324   \n",
       "\n",
       "   AcceptedCmp4  AcceptedCmp5  AcceptedCmp1  AcceptedCmp2  Complain  Response  \n",
       "0     -0.283258     -0.279508      -0.26118     -0.117363 -0.095607  2.381322  \n",
       "1     -0.283258     -0.279508      -0.26118     -0.117363 -0.095607 -0.419935  \n",
       "2     -0.283258     -0.279508      -0.26118     -0.117363 -0.095607 -0.419935  \n",
       "3     -0.283258     -0.279508      -0.26118     -0.117363 -0.095607 -0.419935  \n",
       "4     -0.283258     -0.279508      -0.26118     -0.117363 -0.095607 -0.419935  \n",
       "\n",
       "[5 rows x 23 columns]"
      ]
     },
     "execution_count": 17,
     "metadata": {},
     "output_type": "execute_result"
    }
   ],
   "source": [
    "X_n = pd.DataFrame(scaler.transform(X), columns = X.columns)\n",
    "X_n.head()"
   ]
  },
  {
   "cell_type": "code",
   "execution_count": 18,
   "id": "3500fcd3",
   "metadata": {},
   "outputs": [],
   "source": [
    "#Inverse transform test\n",
    "\n",
    "#X_r = pd.DataFrame(scaler.inverse_transform(X_n), columns = X.columns)\n",
    "#X_r.head()"
   ]
  },
  {
   "cell_type": "code",
   "execution_count": 19,
   "id": "e69c7724",
   "metadata": {},
   "outputs": [
    {
     "data": {
      "text/plain": [
       "<Figure size 2000x2000 with 0 Axes>"
      ]
     },
     "metadata": {},
     "output_type": "display_data"
    }
   ],
   "source": [
    "fig = plt.figure(figsize=(20, 20))\n",
    "\n",
    "#sns.heatmap(X_n.corr(), annot = True, fmt=\".1f\")"
   ]
  },
  {
   "cell_type": "markdown",
   "id": "de29026a",
   "metadata": {},
   "source": [
    "# CLASSIFICATION"
   ]
  },
  {
   "cell_type": "code",
   "execution_count": 20,
   "id": "dc1cec87",
   "metadata": {},
   "outputs": [],
   "source": [
    "from sklearn.cluster import KMeans"
   ]
  },
  {
   "cell_type": "code",
   "execution_count": 21,
   "id": "de8ff13a",
   "metadata": {},
   "outputs": [],
   "source": [
    "#X_n = X.copy()"
   ]
  },
  {
   "cell_type": "code",
   "execution_count": 22,
   "id": "7cf5a6c4",
   "metadata": {},
   "outputs": [
    {
     "name": "stderr",
     "output_type": "stream",
     "text": [
      "C:\\Users\\utile\\anaconda3\\lib\\site-packages\\sklearn\\cluster\\_kmeans.py:1036: UserWarning: KMeans is known to have a memory leak on Windows with MKL, when there are less chunks than available threads. You can avoid it by setting the environment variable OMP_NUM_THREADS=9.\n",
      "  warnings.warn(\n"
     ]
    }
   ],
   "source": [
    "sse = []\n",
    "for k in range(1, 13):\n",
    "    model_km = KMeans(n_clusters=k)\n",
    "    model_km.fit(X_n)\n",
    "    sse.append(model_km.inertia_)"
   ]
  },
  {
   "cell_type": "code",
   "execution_count": 23,
   "id": "da527d40",
   "metadata": {},
   "outputs": [],
   "source": [
    "cluster_df = pd.DataFrame({'Cluster':range(1,13), 'sse':sse})\n",
    "#cluster_df"
   ]
  },
  {
   "cell_type": "code",
   "execution_count": 24,
   "id": "5693fe3f",
   "metadata": {},
   "outputs": [
    {
     "data": {
      "image/png": "[encoded data removed]",
      "text/plain": [
       "<Figure size 1200x600 with 1 Axes>"
      ]
     },
     "metadata": {},
     "output_type": "display_data"
    }
   ],
   "source": [
    "plt.figure(figsize=(12,6))\n",
    "plt.plot(cluster_df['Cluster'], cluster_df['sse'])\n",
    "plt.xlabel('Number of clusters')\n",
    "plt.ylabel('Inertia')\n",
    "plt.xticks(cluster_df['Cluster'])\n",
    "plt.show()"
   ]
  },
  {
   "cell_type": "code",
   "execution_count": 25,
   "id": "ab032a6c",
   "metadata": {},
   "outputs": [],
   "source": [
    "n_clusters = 2\n",
    "random_state = 130"
   ]
  },
  {
   "cell_type": "code",
   "execution_count": 26,
   "id": "07f7613c",
   "metadata": {},
   "outputs": [],
   "source": [
    "model_orig = KMeans(n_clusters = n_clusters, random_state = random_state)\n",
    "model_n = KMeans(n_clusters = n_clusters, random_state = random_state)"
   ]
  },
  {
   "cell_type": "code",
   "execution_count": 27,
   "id": "d7702b1c",
   "metadata": {},
   "outputs": [],
   "source": [
    "#model.get_params()"
   ]
  },
  {
   "cell_type": "code",
   "execution_count": 28,
   "id": "f1f74d00",
   "metadata": {},
   "outputs": [
    {
     "data": {
      "text/plain": [
       "KMeans(n_clusters=2, random_state=130)"
      ]
     },
     "execution_count": 28,
     "metadata": {},
     "output_type": "execute_result"
    }
   ],
   "source": [
    "model_orig.fit(X)\n",
    "model_n.fit(X_n)"
   ]
  },
  {
   "cell_type": "code",
   "execution_count": 29,
   "id": "00240691",
   "metadata": {},
   "outputs": [],
   "source": [
    "#model.inertia_"
   ]
  },
  {
   "cell_type": "code",
   "execution_count": 30,
   "id": "8f57bb98",
   "metadata": {},
   "outputs": [
    {
     "data": {
      "text/plain": [
       "0    1134\n",
       "1    1074\n",
       "Name: y_pred, dtype: int64"
      ]
     },
     "execution_count": 30,
     "metadata": {},
     "output_type": "execute_result"
    }
   ],
   "source": [
    "y_pred_orig = model_orig.predict(X)\n",
    "y_pred_orig_df = pd.DataFrame(y_pred_orig, columns=['y_pred'])\n",
    "y_pred_orig_df['y_pred'].value_counts()"
   ]
  },
  {
   "cell_type": "code",
   "execution_count": 31,
   "id": "686727b5",
   "metadata": {},
   "outputs": [
    {
     "data": {
      "text/plain": [
       "0    1330\n",
       "1     878\n",
       "Name: y_pred, dtype: int64"
      ]
     },
     "execution_count": 31,
     "metadata": {},
     "output_type": "execute_result"
    }
   ],
   "source": [
    "y_pred_n = model_n.predict(X_n)\n",
    "y_pred_n_df = pd.DataFrame(y_pred_n, columns=['y_pred'])\n",
    "y_pred_n_df['y_pred'].value_counts()"
   ]
  },
  {
   "cell_type": "code",
   "execution_count": 32,
   "id": "532bf1f8",
   "metadata": {},
   "outputs": [],
   "source": [
    "#model.cluster_centers_"
   ]
  },
  {
   "cell_type": "code",
   "execution_count": 33,
   "id": "68f552bf",
   "metadata": {
    "scrolled": false
   },
   "outputs": [
    {
     "data": {
      "text/html": [
       "<div>\n",
       "<style scoped>\n",
       "    .dataframe tbody tr th:only-of-type {\n",
       "        vertical-align: middle;\n",
       "    }\n",
       "\n",
       "    .dataframe tbody tr th {\n",
       "        vertical-align: top;\n",
       "    }\n",
       "\n",
       "    .dataframe thead th {\n",
       "        text-align: right;\n",
       "    }\n",
       "</style>\n",
       "<table border=\"1\" class=\"dataframe\">\n",
       "  <thead>\n",
       "    <tr style=\"text-align: right;\">\n",
       "      <th></th>\n",
       "      <th>Year_Birth</th>\n",
       "      <th>Income</th>\n",
       "      <th>Kidhome</th>\n",
       "      <th>Teenhome</th>\n",
       "      <th>Recency</th>\n",
       "      <th>MntWines</th>\n",
       "      <th>MntFruits</th>\n",
       "      <th>MntMeatProducts</th>\n",
       "      <th>MntFishProducts</th>\n",
       "      <th>MntSweetProducts</th>\n",
       "      <th>...</th>\n",
       "      <th>NumCatalogPurchases</th>\n",
       "      <th>NumStorePurchases</th>\n",
       "      <th>NumWebVisitsMonth</th>\n",
       "      <th>AcceptedCmp3</th>\n",
       "      <th>AcceptedCmp4</th>\n",
       "      <th>AcceptedCmp5</th>\n",
       "      <th>AcceptedCmp1</th>\n",
       "      <th>AcceptedCmp2</th>\n",
       "      <th>Complain</th>\n",
       "      <th>Response</th>\n",
       "    </tr>\n",
       "  </thead>\n",
       "  <tbody>\n",
       "    <tr>\n",
       "      <th>0</th>\n",
       "      <td>1970.968254</td>\n",
       "      <td>34550.22575</td>\n",
       "      <td>0.716931</td>\n",
       "      <td>0.473545</td>\n",
       "      <td>49.055556</td>\n",
       "      <td>78.688713</td>\n",
       "      <td>7.109347</td>\n",
       "      <td>36.435626</td>\n",
       "      <td>11.233686</td>\n",
       "      <td>7.426808</td>\n",
       "      <td>...</td>\n",
       "      <td>0.854497</td>\n",
       "      <td>3.649030</td>\n",
       "      <td>6.651675</td>\n",
       "      <td>0.082892</td>\n",
       "      <td>0.023810</td>\n",
       "      <td>0.000882</td>\n",
       "      <td>0.003527</td>\n",
       "      <td>0.003527</td>\n",
       "      <td>0.011464</td>\n",
       "      <td>0.112875</td>\n",
       "    </tr>\n",
       "    <tr>\n",
       "      <th>1</th>\n",
       "      <td>1966.725326</td>\n",
       "      <td>70308.50838</td>\n",
       "      <td>0.152700</td>\n",
       "      <td>0.540037</td>\n",
       "      <td>49.059590</td>\n",
       "      <td>544.420857</td>\n",
       "      <td>46.558659</td>\n",
       "      <td>304.866853</td>\n",
       "      <td>65.289572</td>\n",
       "      <td>47.800745</td>\n",
       "      <td>...</td>\n",
       "      <td>4.585661</td>\n",
       "      <td>8.082868</td>\n",
       "      <td>3.918994</td>\n",
       "      <td>0.064246</td>\n",
       "      <td>0.127561</td>\n",
       "      <td>0.148045</td>\n",
       "      <td>0.127561</td>\n",
       "      <td>0.024209</td>\n",
       "      <td>0.006518</td>\n",
       "      <td>0.189013</td>\n",
       "    </tr>\n",
       "  </tbody>\n",
       "</table>\n",
       "<p>2 rows × 23 columns</p>\n",
       "</div>"
      ],
      "text/plain": [
       "    Year_Birth       Income   Kidhome  Teenhome    Recency    MntWines  \\\n",
       "0  1970.968254  34550.22575  0.716931  0.473545  49.055556   78.688713   \n",
       "1  1966.725326  70308.50838  0.152700  0.540037  49.059590  544.420857   \n",
       "\n",
       "   MntFruits  MntMeatProducts  MntFishProducts  MntSweetProducts  ...  \\\n",
       "0   7.109347        36.435626        11.233686          7.426808  ...   \n",
       "1  46.558659       304.866853        65.289572         47.800745  ...   \n",
       "\n",
       "   NumCatalogPurchases  NumStorePurchases  NumWebVisitsMonth  AcceptedCmp3  \\\n",
       "0             0.854497           3.649030           6.651675      0.082892   \n",
       "1             4.585661           8.082868           3.918994      0.064246   \n",
       "\n",
       "   AcceptedCmp4  AcceptedCmp5  AcceptedCmp1  AcceptedCmp2  Complain  Response  \n",
       "0      0.023810      0.000882      0.003527      0.003527  0.011464  0.112875  \n",
       "1      0.127561      0.148045      0.127561      0.024209  0.006518  0.189013  \n",
       "\n",
       "[2 rows x 23 columns]"
      ]
     },
     "execution_count": 33,
     "metadata": {},
     "output_type": "execute_result"
    }
   ],
   "source": [
    "centers_orig = pd.DataFrame(model_orig.cluster_centers_, columns = X.columns)\n",
    "centers_orig"
   ]
  },
  {
   "cell_type": "code",
   "execution_count": 34,
   "id": "f0b60ba5",
   "metadata": {
    "scrolled": false
   },
   "outputs": [
    {
     "data": {
      "text/html": [
       "<div>\n",
       "<style scoped>\n",
       "    .dataframe tbody tr th:only-of-type {\n",
       "        vertical-align: middle;\n",
       "    }\n",
       "\n",
       "    .dataframe tbody tr th {\n",
       "        vertical-align: top;\n",
       "    }\n",
       "\n",
       "    .dataframe thead th {\n",
       "        text-align: right;\n",
       "    }\n",
       "</style>\n",
       "<table border=\"1\" class=\"dataframe\">\n",
       "  <thead>\n",
       "    <tr style=\"text-align: right;\">\n",
       "      <th></th>\n",
       "      <th>Year_Birth</th>\n",
       "      <th>Income</th>\n",
       "      <th>Kidhome</th>\n",
       "      <th>Teenhome</th>\n",
       "      <th>Recency</th>\n",
       "      <th>MntWines</th>\n",
       "      <th>MntFruits</th>\n",
       "      <th>MntMeatProducts</th>\n",
       "      <th>MntFishProducts</th>\n",
       "      <th>MntSweetProducts</th>\n",
       "      <th>...</th>\n",
       "      <th>NumCatalogPurchases</th>\n",
       "      <th>NumStorePurchases</th>\n",
       "      <th>NumWebVisitsMonth</th>\n",
       "      <th>AcceptedCmp3</th>\n",
       "      <th>AcceptedCmp4</th>\n",
       "      <th>AcceptedCmp5</th>\n",
       "      <th>AcceptedCmp1</th>\n",
       "      <th>AcceptedCmp2</th>\n",
       "      <th>Complain</th>\n",
       "      <th>Response</th>\n",
       "    </tr>\n",
       "  </thead>\n",
       "  <tbody>\n",
       "    <tr>\n",
       "      <th>0</th>\n",
       "      <td>0.103515</td>\n",
       "      <td>-0.604323</td>\n",
       "      <td>0.465557</td>\n",
       "      <td>0.092802</td>\n",
       "      <td>-0.004093</td>\n",
       "      <td>-0.596807</td>\n",
       "      <td>-0.493483</td>\n",
       "      <td>-0.577623</td>\n",
       "      <td>-0.505921</td>\n",
       "      <td>-0.493484</td>\n",
       "      <td>...</td>\n",
       "      <td>-0.606816</td>\n",
       "      <td>-0.565946</td>\n",
       "      <td>0.442516</td>\n",
       "      <td>-0.020657</td>\n",
       "      <td>-0.148491</td>\n",
       "      <td>-0.279508</td>\n",
       "      <td>-0.239654</td>\n",
       "      <td>-0.104374</td>\n",
       "      <td>0.007562</td>\n",
       "      <td>-0.152446</td>\n",
       "    </tr>\n",
       "    <tr>\n",
       "      <th>1</th>\n",
       "      <td>-0.156805</td>\n",
       "      <td>0.915432</td>\n",
       "      <td>-0.705228</td>\n",
       "      <td>-0.140577</td>\n",
       "      <td>0.006201</td>\n",
       "      <td>0.904047</td>\n",
       "      <td>0.747531</td>\n",
       "      <td>0.874987</td>\n",
       "      <td>0.766373</td>\n",
       "      <td>0.747533</td>\n",
       "      <td>...</td>\n",
       "      <td>0.919209</td>\n",
       "      <td>0.857299</td>\n",
       "      <td>-0.670326</td>\n",
       "      <td>0.031291</td>\n",
       "      <td>0.224935</td>\n",
       "      <td>0.423401</td>\n",
       "      <td>0.363029</td>\n",
       "      <td>0.158106</td>\n",
       "      <td>-0.011455</td>\n",
       "      <td>0.230927</td>\n",
       "    </tr>\n",
       "  </tbody>\n",
       "</table>\n",
       "<p>2 rows × 23 columns</p>\n",
       "</div>"
      ],
      "text/plain": [
       "   Year_Birth    Income   Kidhome  Teenhome   Recency  MntWines  MntFruits  \\\n",
       "0    0.103515 -0.604323  0.465557  0.092802 -0.004093 -0.596807  -0.493483   \n",
       "1   -0.156805  0.915432 -0.705228 -0.140577  0.006201  0.904047   0.747531   \n",
       "\n",
       "   MntMeatProducts  MntFishProducts  MntSweetProducts  ...  \\\n",
       "0        -0.577623        -0.505921         -0.493484  ...   \n",
       "1         0.874987         0.766373          0.747533  ...   \n",
       "\n",
       "   NumCatalogPurchases  NumStorePurchases  NumWebVisitsMonth  AcceptedCmp3  \\\n",
       "0            -0.606816          -0.565946           0.442516     -0.020657   \n",
       "1             0.919209           0.857299          -0.670326      0.031291   \n",
       "\n",
       "   AcceptedCmp4  AcceptedCmp5  AcceptedCmp1  AcceptedCmp2  Complain  Response  \n",
       "0     -0.148491     -0.279508     -0.239654     -0.104374  0.007562 -0.152446  \n",
       "1      0.224935      0.423401      0.363029      0.158106 -0.011455  0.230927  \n",
       "\n",
       "[2 rows x 23 columns]"
      ]
     },
     "execution_count": 34,
     "metadata": {},
     "output_type": "execute_result"
    }
   ],
   "source": [
    "centers_n = pd.DataFrame(model_n.cluster_centers_, columns = X.columns)\n",
    "centers_n"
   ]
  },
  {
   "cell_type": "code",
   "execution_count": 35,
   "id": "919e9fbf",
   "metadata": {},
   "outputs": [
    {
     "data": {
      "text/html": [
       "<div>\n",
       "<style scoped>\n",
       "    .dataframe tbody tr th:only-of-type {\n",
       "        vertical-align: middle;\n",
       "    }\n",
       "\n",
       "    .dataframe tbody tr th {\n",
       "        vertical-align: top;\n",
       "    }\n",
       "\n",
       "    .dataframe thead th {\n",
       "        text-align: right;\n",
       "    }\n",
       "</style>\n",
       "<table border=\"1\" class=\"dataframe\">\n",
       "  <thead>\n",
       "    <tr style=\"text-align: right;\">\n",
       "      <th></th>\n",
       "      <th>Year_Birth</th>\n",
       "      <th>Income</th>\n",
       "      <th>Kidhome</th>\n",
       "      <th>Teenhome</th>\n",
       "      <th>Recency</th>\n",
       "      <th>MntWines</th>\n",
       "      <th>MntFruits</th>\n",
       "      <th>MntMeatProducts</th>\n",
       "      <th>MntFishProducts</th>\n",
       "      <th>MntSweetProducts</th>\n",
       "      <th>...</th>\n",
       "      <th>NumCatalogPurchases</th>\n",
       "      <th>NumStorePurchases</th>\n",
       "      <th>NumWebVisitsMonth</th>\n",
       "      <th>AcceptedCmp3</th>\n",
       "      <th>AcceptedCmp4</th>\n",
       "      <th>AcceptedCmp5</th>\n",
       "      <th>AcceptedCmp1</th>\n",
       "      <th>AcceptedCmp2</th>\n",
       "      <th>Complain</th>\n",
       "      <th>Response</th>\n",
       "    </tr>\n",
       "  </thead>\n",
       "  <tbody>\n",
       "    <tr>\n",
       "      <th>0</th>\n",
       "      <td>1970.115038</td>\n",
       "      <td>38931.315789</td>\n",
       "      <td>0.692481</td>\n",
       "      <td>0.556391</td>\n",
       "      <td>48.939098</td>\n",
       "      <td>103.786466</td>\n",
       "      <td>6.695489</td>\n",
       "      <td>37.463158</td>\n",
       "      <td>9.921053</td>\n",
       "      <td>6.781955</td>\n",
       "      <td>...</td>\n",
       "      <td>0.894737</td>\n",
       "      <td>3.964662</td>\n",
       "      <td>6.394737</td>\n",
       "      <td>0.068421</td>\n",
       "      <td>0.035338</td>\n",
       "      <td>-1.387779e-17</td>\n",
       "      <td>0.005263</td>\n",
       "      <td>0.001504</td>\n",
       "      <td>0.009774</td>\n",
       "      <td>0.095489</td>\n",
       "    </tr>\n",
       "    <tr>\n",
       "      <th>1</th>\n",
       "      <td>1967.070615</td>\n",
       "      <td>71654.492027</td>\n",
       "      <td>0.063781</td>\n",
       "      <td>0.429385</td>\n",
       "      <td>49.236902</td>\n",
       "      <td>610.370159</td>\n",
       "      <td>55.992027</td>\n",
       "      <td>363.233485</td>\n",
       "      <td>79.345103</td>\n",
       "      <td>57.790433</td>\n",
       "      <td>...</td>\n",
       "      <td>5.357631</td>\n",
       "      <td>8.594533</td>\n",
       "      <td>3.698178</td>\n",
       "      <td>0.082005</td>\n",
       "      <td>0.133257</td>\n",
       "      <td>1.822323e-01</td>\n",
       "      <td>0.152620</td>\n",
       "      <td>0.031891</td>\n",
       "      <td>0.007973</td>\n",
       "      <td>0.232346</td>\n",
       "    </tr>\n",
       "  </tbody>\n",
       "</table>\n",
       "<p>2 rows × 23 columns</p>\n",
       "</div>"
      ],
      "text/plain": [
       "    Year_Birth        Income   Kidhome  Teenhome    Recency    MntWines  \\\n",
       "0  1970.115038  38931.315789  0.692481  0.556391  48.939098  103.786466   \n",
       "1  1967.070615  71654.492027  0.063781  0.429385  49.236902  610.370159   \n",
       "\n",
       "   MntFruits  MntMeatProducts  MntFishProducts  MntSweetProducts  ...  \\\n",
       "0   6.695489        37.463158         9.921053          6.781955  ...   \n",
       "1  55.992027       363.233485        79.345103         57.790433  ...   \n",
       "\n",
       "   NumCatalogPurchases  NumStorePurchases  NumWebVisitsMonth  AcceptedCmp3  \\\n",
       "0             0.894737           3.964662           6.394737      0.068421   \n",
       "1             5.357631           8.594533           3.698178      0.082005   \n",
       "\n",
       "   AcceptedCmp4  AcceptedCmp5  AcceptedCmp1  AcceptedCmp2  Complain  Response  \n",
       "0      0.035338 -1.387779e-17      0.005263      0.001504  0.009774  0.095489  \n",
       "1      0.133257  1.822323e-01      0.152620      0.031891  0.007973  0.232346  \n",
       "\n",
       "[2 rows x 23 columns]"
      ]
     },
     "execution_count": 35,
     "metadata": {},
     "output_type": "execute_result"
    }
   ],
   "source": [
    "centers_n = pd.DataFrame(scaler.inverse_transform(centers_n), columns = X.columns)\n",
    "centers_n"
   ]
  },
  {
   "cell_type": "markdown",
   "id": "c78b4ee0",
   "metadata": {},
   "source": [
    "## EVALUATION"
   ]
  },
  {
   "cell_type": "code",
   "execution_count": 54,
   "id": "ca64e36a",
   "metadata": {},
   "outputs": [],
   "source": [
    "from sklearn.metrics import silhouette_score"
   ]
  },
  {
   "cell_type": "code",
   "execution_count": 48,
   "id": "0949ee5c",
   "metadata": {},
   "outputs": [
    {
     "data": {
      "text/plain": [
       "array([1, 0, 1, ..., 1, 1, 1])"
      ]
     },
     "execution_count": 48,
     "metadata": {},
     "output_type": "execute_result"
    }
   ],
   "source": [
    "#model_orig.labels_"
   ]
  },
  {
   "cell_type": "code",
   "execution_count": 56,
   "id": "8934d6d6",
   "metadata": {},
   "outputs": [
    {
     "data": {
      "text/plain": [
       "0.6065025973843574"
      ]
     },
     "execution_count": 56,
     "metadata": {},
     "output_type": "execute_result"
    }
   ],
   "source": [
    "sil_orig = silhouette_score(X, model_orig.labels_) # metric='euclidean', sample_size=None, random_state=None, **kwds\n",
    "sil_orig"
   ]
  },
  {
   "cell_type": "code",
   "execution_count": 57,
   "id": "d236a1fc",
   "metadata": {},
   "outputs": [
    {
     "data": {
      "text/plain": [
       "0.4863420190193583"
      ]
     },
     "execution_count": 57,
     "metadata": {},
     "output_type": "execute_result"
    }
   ],
   "source": [
    "sil_n = silhouette_score(X, model_n.labels_) # metric='euclidean', sample_size=None, random_state=None, **kwds\n",
    "sil_n"
   ]
  },
  {
   "cell_type": "markdown",
   "id": "a89e9eea",
   "metadata": {},
   "source": [
    "## BACK TO FEATURES ENGINEERING"
   ]
  },
  {
   "cell_type": "code",
   "execution_count": 38,
   "id": "f0f0fa6b",
   "metadata": {},
   "outputs": [],
   "source": [
    "#sns.pairplot(X)"
   ]
  },
  {
   "cell_type": "code",
   "execution_count": 39,
   "id": "0db6df19",
   "metadata": {},
   "outputs": [],
   "source": [
    "from sklearn.decomposition import PCA"
   ]
  },
  {
   "cell_type": "code",
   "execution_count": 40,
   "id": "2050ae85",
   "metadata": {},
   "outputs": [],
   "source": [
    "pca = PCA()"
   ]
  },
  {
   "cell_type": "code",
   "execution_count": 41,
   "id": "20fe3321",
   "metadata": {},
   "outputs": [],
   "source": [
    "pca = PCA(n_components=2)"
   ]
  },
  {
   "cell_type": "code",
   "execution_count": 42,
   "id": "1a625c9c",
   "metadata": {},
   "outputs": [
    {
     "data": {
      "text/plain": [
       "PCA(n_components=2)"
      ]
     },
     "execution_count": 42,
     "metadata": {},
     "output_type": "execute_result"
    }
   ],
   "source": [
    "pca.fit(X)"
   ]
  },
  {
   "cell_type": "code",
   "execution_count": 43,
   "id": "d1e9084e",
   "metadata": {},
   "outputs": [
    {
     "name": "stdout",
     "output_type": "stream",
     "text": [
      "(2208, 2)\n"
     ]
    }
   ],
   "source": [
    "X_pca = pca.transform(X)\n",
    " \n",
    "# Check the dimensions of data after PCA\n",
    "print(X_pca.shape)"
   ]
  },
  {
   "cell_type": "code",
   "execution_count": 44,
   "id": "02f81c77",
   "metadata": {},
   "outputs": [
    {
     "data": {
      "text/plain": [
       "array([[-1.09247743e-04,  9.99913497e-01, -1.28307752e-05,\n",
       "         8.97508844e-07,  1.01808488e-05,  1.07911105e-02,\n",
       "         9.34805643e-04,  7.21421039e-03,  1.31731223e-03,\n",
       "         9.99609765e-04,  9.26579110e-04, -9.63604194e-06,\n",
       "         5.85933436e-05,  9.45792481e-05,  9.54079171e-05,\n",
       "        -7.31507396e-05, -1.81477602e-07,  2.67877159e-06,\n",
       "         4.75493252e-06,  3.70882433e-06,  5.60139021e-07,\n",
       "        -1.22524495e-07,  2.66604017e-06],\n",
       "       [ 7.60068732e-04,  1.20792536e-02,  4.50668121e-04,\n",
       "         1.75903607e-04, -2.07336504e-03, -9.79085575e-01,\n",
       "        -1.44195497e-02, -1.96888759e-01, -2.17196172e-02,\n",
       "        -1.23415327e-02, -4.00596352e-02, -8.00828770e-04,\n",
       "        -3.50664063e-03, -3.00917342e-03, -3.74105036e-03,\n",
       "        -1.47415251e-03, -1.07531175e-04, -3.00195352e-04,\n",
       "        -3.00569794e-04, -1.83626236e-04, -8.12534467e-05,\n",
       "         8.96209079e-06, -2.94604853e-04]])"
      ]
     },
     "execution_count": 44,
     "metadata": {},
     "output_type": "execute_result"
    }
   ],
   "source": [
    "# Check the values of eigen vectors\n",
    "# prodeced by principal components\n",
    "pca.components_"
   ]
  },
  {
   "cell_type": "code",
   "execution_count": 45,
   "id": "987eaba0",
   "metadata": {},
   "outputs": [
    {
     "data": {
      "text/plain": [
       "Text(0, 0.5, 'pc2')"
      ]
     },
     "execution_count": 45,
     "metadata": {},
     "output_type": "execute_result"
    },
    {
     "data": {
      "image/png": "[encoded data removed]",
      "text/plain": [
       "<Figure size 500x500 with 1 Axes>"
      ]
     },
     "metadata": {},
     "output_type": "display_data"
    }
   ],
   "source": [
    "plt.figure(figsize=(5, 5))\n",
    "plt.scatter(X_pca[:,0],X_pca[:,1],c=y_pred_orig,cmap='plasma')\n",
    "plt.xlabel('pc1')\n",
    "plt.ylabel('pc2')"
   ]
  },
  {
   "cell_type": "code",
   "execution_count": null,
   "id": "befdcdeb",
   "metadata": {},
   "outputs": [],
   "source": []
  },
  {
   "cell_type": "code",
   "execution_count": null,
   "id": "3329c97c",
   "metadata": {},
   "outputs": [],
   "source": []
  }
 ],
 "metadata": {
  "kernelspec": {
   "display_name": "Python 3 (ipykernel)",
   "language": "python",
   "name": "python3"
  },
  "language_info": {
   "codemirror_mode": {
    "name": "ipython",
    "version": 3
   },
   "file_extension": ".py",
   "mimetype": "text/x-python",
   "name": "python",
   "nbconvert_exporter": "python",
   "pygments_lexer": "ipython3",
   "version": "3.9.13"
  }
 },
 "nbformat": 4,
 "nbformat_minor": 5
}
