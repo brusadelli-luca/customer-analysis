{
 "cells": [
  {
   "cell_type": "markdown",
   "id": "be1e1d2d",
   "metadata": {},
   "source": [
    "# LIBRARIES IMPORT"
   ]
  },
  {
   "cell_type": "code",
   "execution_count": 1,
   "id": "67075ed9",
   "metadata": {},
   "outputs": [],
   "source": [
    "import pandas as pd\n",
    "import matplotlib.pyplot as plt\n",
    "import numpy as np\n",
    "\n",
    "from datetime import date"
   ]
  },
  {
   "cell_type": "markdown",
   "id": "dbdb3885",
   "metadata": {},
   "source": [
    "# DATA IMPORT"
   ]
  },
  {
   "cell_type": "markdown",
   "id": "dddae7c3",
   "metadata": {},
   "source": [
    "Get data from csv"
   ]
  },
  {
   "cell_type": "code",
   "execution_count": 2,
   "id": "fdead6eb",
   "metadata": {},
   "outputs": [],
   "source": [
    "df = pd.read_csv('marketing_campaign.csv', sep = '\\t')"
   ]
  },
  {
   "cell_type": "markdown",
   "id": "b96468e1",
   "metadata": {},
   "source": [
    "# DATA EXPLORATION"
   ]
  },
  {
   "cell_type": "markdown",
   "id": "40af40d1",
   "metadata": {},
   "source": [
    "See what does data looks like"
   ]
  },
  {
   "cell_type": "code",
   "execution_count": 3,
   "id": "74469f94",
   "metadata": {},
   "outputs": [
    {
     "data": {
      "text/html": [
       "<div>\n",
       "<style scoped>\n",
       "    .dataframe tbody tr th:only-of-type {\n",
       "        vertical-align: middle;\n",
       "    }\n",
       "\n",
       "    .dataframe tbody tr th {\n",
       "        vertical-align: top;\n",
       "    }\n",
       "\n",
       "    .dataframe thead th {\n",
       "        text-align: right;\n",
       "    }\n",
       "</style>\n",
       "<table border=\"1\" class=\"dataframe\">\n",
       "  <thead>\n",
       "    <tr style=\"text-align: right;\">\n",
       "      <th></th>\n",
       "      <th>ID</th>\n",
       "      <th>Year_Birth</th>\n",
       "      <th>Education</th>\n",
       "      <th>Marital_Status</th>\n",
       "      <th>Income</th>\n",
       "      <th>Kidhome</th>\n",
       "      <th>Teenhome</th>\n",
       "      <th>Dt_Customer</th>\n",
       "      <th>Recency</th>\n",
       "      <th>MntWines</th>\n",
       "      <th>...</th>\n",
       "      <th>NumWebVisitsMonth</th>\n",
       "      <th>AcceptedCmp3</th>\n",
       "      <th>AcceptedCmp4</th>\n",
       "      <th>AcceptedCmp5</th>\n",
       "      <th>AcceptedCmp1</th>\n",
       "      <th>AcceptedCmp2</th>\n",
       "      <th>Complain</th>\n",
       "      <th>Z_CostContact</th>\n",
       "      <th>Z_Revenue</th>\n",
       "      <th>Response</th>\n",
       "    </tr>\n",
       "  </thead>\n",
       "  <tbody>\n",
       "    <tr>\n",
       "      <th>0</th>\n",
       "      <td>5524</td>\n",
       "      <td>1957</td>\n",
       "      <td>Graduation</td>\n",
       "      <td>Single</td>\n",
       "      <td>58138.0</td>\n",
       "      <td>0</td>\n",
       "      <td>0</td>\n",
       "      <td>04-09-2012</td>\n",
       "      <td>58</td>\n",
       "      <td>635</td>\n",
       "      <td>...</td>\n",
       "      <td>7</td>\n",
       "      <td>0</td>\n",
       "      <td>0</td>\n",
       "      <td>0</td>\n",
       "      <td>0</td>\n",
       "      <td>0</td>\n",
       "      <td>0</td>\n",
       "      <td>3</td>\n",
       "      <td>11</td>\n",
       "      <td>1</td>\n",
       "    </tr>\n",
       "    <tr>\n",
       "      <th>1</th>\n",
       "      <td>2174</td>\n",
       "      <td>1954</td>\n",
       "      <td>Graduation</td>\n",
       "      <td>Single</td>\n",
       "      <td>46344.0</td>\n",
       "      <td>1</td>\n",
       "      <td>1</td>\n",
       "      <td>08-03-2014</td>\n",
       "      <td>38</td>\n",
       "      <td>11</td>\n",
       "      <td>...</td>\n",
       "      <td>5</td>\n",
       "      <td>0</td>\n",
       "      <td>0</td>\n",
       "      <td>0</td>\n",
       "      <td>0</td>\n",
       "      <td>0</td>\n",
       "      <td>0</td>\n",
       "      <td>3</td>\n",
       "      <td>11</td>\n",
       "      <td>0</td>\n",
       "    </tr>\n",
       "    <tr>\n",
       "      <th>2</th>\n",
       "      <td>4141</td>\n",
       "      <td>1965</td>\n",
       "      <td>Graduation</td>\n",
       "      <td>Together</td>\n",
       "      <td>71613.0</td>\n",
       "      <td>0</td>\n",
       "      <td>0</td>\n",
       "      <td>21-08-2013</td>\n",
       "      <td>26</td>\n",
       "      <td>426</td>\n",
       "      <td>...</td>\n",
       "      <td>4</td>\n",
       "      <td>0</td>\n",
       "      <td>0</td>\n",
       "      <td>0</td>\n",
       "      <td>0</td>\n",
       "      <td>0</td>\n",
       "      <td>0</td>\n",
       "      <td>3</td>\n",
       "      <td>11</td>\n",
       "      <td>0</td>\n",
       "    </tr>\n",
       "    <tr>\n",
       "      <th>3</th>\n",
       "      <td>6182</td>\n",
       "      <td>1984</td>\n",
       "      <td>Graduation</td>\n",
       "      <td>Together</td>\n",
       "      <td>26646.0</td>\n",
       "      <td>1</td>\n",
       "      <td>0</td>\n",
       "      <td>10-02-2014</td>\n",
       "      <td>26</td>\n",
       "      <td>11</td>\n",
       "      <td>...</td>\n",
       "      <td>6</td>\n",
       "      <td>0</td>\n",
       "      <td>0</td>\n",
       "      <td>0</td>\n",
       "      <td>0</td>\n",
       "      <td>0</td>\n",
       "      <td>0</td>\n",
       "      <td>3</td>\n",
       "      <td>11</td>\n",
       "      <td>0</td>\n",
       "    </tr>\n",
       "    <tr>\n",
       "      <th>4</th>\n",
       "      <td>5324</td>\n",
       "      <td>1981</td>\n",
       "      <td>PhD</td>\n",
       "      <td>Married</td>\n",
       "      <td>58293.0</td>\n",
       "      <td>1</td>\n",
       "      <td>0</td>\n",
       "      <td>19-01-2014</td>\n",
       "      <td>94</td>\n",
       "      <td>173</td>\n",
       "      <td>...</td>\n",
       "      <td>5</td>\n",
       "      <td>0</td>\n",
       "      <td>0</td>\n",
       "      <td>0</td>\n",
       "      <td>0</td>\n",
       "      <td>0</td>\n",
       "      <td>0</td>\n",
       "      <td>3</td>\n",
       "      <td>11</td>\n",
       "      <td>0</td>\n",
       "    </tr>\n",
       "  </tbody>\n",
       "</table>\n",
       "<p>5 rows × 29 columns</p>\n",
       "</div>"
      ],
      "text/plain": [
       "     ID  Year_Birth   Education Marital_Status   Income  Kidhome  Teenhome  \\\n",
       "0  5524        1957  Graduation         Single  58138.0        0         0   \n",
       "1  2174        1954  Graduation         Single  46344.0        1         1   \n",
       "2  4141        1965  Graduation       Together  71613.0        0         0   \n",
       "3  6182        1984  Graduation       Together  26646.0        1         0   \n",
       "4  5324        1981         PhD        Married  58293.0        1         0   \n",
       "\n",
       "  Dt_Customer  Recency  MntWines  ...  NumWebVisitsMonth  AcceptedCmp3  \\\n",
       "0  04-09-2012       58       635  ...                  7             0   \n",
       "1  08-03-2014       38        11  ...                  5             0   \n",
       "2  21-08-2013       26       426  ...                  4             0   \n",
       "3  10-02-2014       26        11  ...                  6             0   \n",
       "4  19-01-2014       94       173  ...                  5             0   \n",
       "\n",
       "   AcceptedCmp4  AcceptedCmp5  AcceptedCmp1  AcceptedCmp2  Complain  \\\n",
       "0             0             0             0             0         0   \n",
       "1             0             0             0             0         0   \n",
       "2             0             0             0             0         0   \n",
       "3             0             0             0             0         0   \n",
       "4             0             0             0             0         0   \n",
       "\n",
       "   Z_CostContact  Z_Revenue  Response  \n",
       "0              3         11         1  \n",
       "1              3         11         0  \n",
       "2              3         11         0  \n",
       "3              3         11         0  \n",
       "4              3         11         0  \n",
       "\n",
       "[5 rows x 29 columns]"
      ]
     },
     "execution_count": 3,
     "metadata": {},
     "output_type": "execute_result"
    }
   ],
   "source": [
    "df.head()"
   ]
  },
  {
   "cell_type": "markdown",
   "id": "7b7e316e",
   "metadata": {},
   "source": [
    "# DATA PROCESSING"
   ]
  },
  {
   "cell_type": "markdown",
   "id": "9abb663e",
   "metadata": {},
   "source": [
    "## Pre process data according to data viz observations"
   ]
  },
  {
   "cell_type": "code",
   "execution_count": 4,
   "id": "786dd920",
   "metadata": {},
   "outputs": [],
   "source": [
    "df_p = df.drop(df[df.Year_Birth < 1920].index)"
   ]
  },
  {
   "cell_type": "code",
   "execution_count": 5,
   "id": "daf796c7",
   "metadata": {},
   "outputs": [],
   "source": [
    "df_p.drop(df[df.Marital_Status =='Absurd'].index, inplace = True)\n",
    "df_p.drop(df[df.Marital_Status =='YOLO'].index, inplace = True)\n",
    "df_p.replace('Alone', 'Single', inplace = True)"
   ]
  },
  {
   "cell_type": "code",
   "execution_count": 6,
   "id": "60821de9",
   "metadata": {},
   "outputs": [],
   "source": [
    "df_p.drop(df[df.Income == 666666].index, inplace = True)"
   ]
  },
  {
   "cell_type": "code",
   "execution_count": 7,
   "id": "33d34e32",
   "metadata": {},
   "outputs": [],
   "source": [
    "df_p.dropna(inplace=True)"
   ]
  },
  {
   "cell_type": "code",
   "execution_count": 8,
   "id": "399a8eef",
   "metadata": {},
   "outputs": [],
   "source": [
    "df_p.reset_index(inplace = True)"
   ]
  },
  {
   "cell_type": "markdown",
   "id": "43924641",
   "metadata": {},
   "source": [
    "## Features selection and encoding"
   ]
  },
  {
   "cell_type": "markdown",
   "id": "f3765e2a",
   "metadata": {},
   "source": [
    "Get columns names to slice df to X below"
   ]
  },
  {
   "cell_type": "code",
   "execution_count": 9,
   "id": "a8904bba",
   "metadata": {},
   "outputs": [],
   "source": [
    "#col = df.columns\n",
    "#col"
   ]
  },
  {
   "cell_type": "markdown",
   "id": "3055656f",
   "metadata": {},
   "source": [
    "Slice df to define X_1, matrix of numerical features"
   ]
  },
  {
   "cell_type": "code",
   "execution_count": 10,
   "id": "fbee0861",
   "metadata": {},
   "outputs": [],
   "source": [
    "X_1 = df_p[['Year_Birth', 'Income', 'Kidhome', 'Teenhome', 'Recency', 'MntWines', 'MntFruits', 'MntMeatProducts', 'MntFishProducts', 'MntSweetProducts', 'MntGoldProds', 'NumDealsPurchases', 'NumWebPurchases', 'NumCatalogPurchases', 'NumStorePurchases', 'NumWebVisitsMonth', 'AcceptedCmp3', 'AcceptedCmp4', 'AcceptedCmp5', 'AcceptedCmp1', 'AcceptedCmp2', 'Complain', 'Response']]\n",
    "#X_1"
   ]
  },
  {
   "cell_type": "markdown",
   "id": "ad691dc6",
   "metadata": {},
   "source": [
    "Label encode Education and Marital Status features"
   ]
  },
  {
   "cell_type": "code",
   "execution_count": 11,
   "id": "a7575703",
   "metadata": {},
   "outputs": [],
   "source": [
    "from sklearn.preprocessing import LabelEncoder"
   ]
  },
  {
   "cell_type": "code",
   "execution_count": 12,
   "id": "ee19c38d",
   "metadata": {},
   "outputs": [],
   "source": [
    "le = LabelEncoder()"
   ]
  },
  {
   "cell_type": "code",
   "execution_count": 13,
   "id": "df8bc4bc",
   "metadata": {},
   "outputs": [],
   "source": [
    "edu = le.fit_transform(df_p['Education'])\n",
    "#edu"
   ]
  },
  {
   "cell_type": "code",
   "execution_count": 14,
   "id": "491ac13f",
   "metadata": {},
   "outputs": [],
   "source": [
    "#edu = edu.reshape((-1, 1))\n",
    "#edu"
   ]
  },
  {
   "cell_type": "code",
   "execution_count": 15,
   "id": "f4e0774b",
   "metadata": {},
   "outputs": [],
   "source": [
    "#pd.DataFrame(edu)[0].unique().to_numpy()"
   ]
  },
  {
   "cell_type": "code",
   "execution_count": 16,
   "id": "65d698ae",
   "metadata": {},
   "outputs": [],
   "source": [
    "marit = le.fit_transform(df_p['Marital_Status'])\n",
    "#marit"
   ]
  },
  {
   "cell_type": "code",
   "execution_count": 17,
   "id": "88c443b8",
   "metadata": {},
   "outputs": [],
   "source": [
    "#marit = marit.reshape((-1, 1))\n",
    "#marit"
   ]
  },
  {
   "cell_type": "code",
   "execution_count": 18,
   "id": "880ca3f7",
   "metadata": {},
   "outputs": [],
   "source": [
    "#pd.DataFrame(marit)[0].unique()"
   ]
  },
  {
   "cell_type": "markdown",
   "id": "236d2ef7",
   "metadata": {},
   "source": [
    "Definition of df X_2, matrix of encoded features"
   ]
  },
  {
   "cell_type": "code",
   "execution_count": 19,
   "id": "efd7b884",
   "metadata": {},
   "outputs": [],
   "source": [
    "X_2 = pd.concat([pd.DataFrame(edu.reshape((-1, 1))), pd.DataFrame(marit.reshape((-1, 1)))], axis = 1)\n",
    "X_2.columns = ['Education', 'Marital_Status']\n",
    "#X_2"
   ]
  },
  {
   "cell_type": "markdown",
   "id": "08d7444c",
   "metadata": {},
   "source": [
    "Definition of X, matrix of all features"
   ]
  },
  {
   "cell_type": "code",
   "execution_count": 20,
   "id": "5297d223",
   "metadata": {},
   "outputs": [],
   "source": [
    "X = pd.concat([X_1, X_2], axis = 1)\n",
    "#X"
   ]
  },
  {
   "cell_type": "markdown",
   "id": "249b897d",
   "metadata": {},
   "source": [
    "Heatmap ?"
   ]
  },
  {
   "cell_type": "code",
   "execution_count": 21,
   "id": "8ab5ed32",
   "metadata": {},
   "outputs": [],
   "source": [
    "#import seaborn as sns"
   ]
  },
  {
   "cell_type": "code",
   "execution_count": 22,
   "id": "d12c7ad2",
   "metadata": {},
   "outputs": [],
   "source": [
    "#fig = plt.figure(figsize=(20, 20))\n",
    "\n",
    "#sns.heatmap(X.corr(), annot = True, fmt=\".1f\")"
   ]
  },
  {
   "cell_type": "markdown",
   "id": "5fb0f1a2",
   "metadata": {},
   "source": [
    "## Features Standardization"
   ]
  },
  {
   "cell_type": "code",
   "execution_count": 23,
   "id": "3f04e38b",
   "metadata": {},
   "outputs": [],
   "source": [
    "from sklearn.preprocessing import normalize, StandardScaler, MaxAbsScaler"
   ]
  },
  {
   "cell_type": "code",
   "execution_count": 24,
   "id": "03e0fd8b",
   "metadata": {},
   "outputs": [
    {
     "data": {
      "text/plain": [
       "StandardScaler()"
      ]
     },
     "execution_count": 24,
     "metadata": {},
     "output_type": "execute_result"
    }
   ],
   "source": [
    "#X_n = pd.DataFrame(normalize(X, axis = 0), columns = X.columns)\n",
    "scaler = StandardScaler()\n",
    "#scaler = MaxAbsScaler()\n",
    "\n",
    "scaler"
   ]
  },
  {
   "cell_type": "code",
   "execution_count": 25,
   "id": "c5f86c7f",
   "metadata": {},
   "outputs": [],
   "source": [
    "scaler1 = StandardScaler()\n",
    "scaler2 = StandardScaler()"
   ]
  },
  {
   "cell_type": "code",
   "execution_count": 26,
   "id": "a3821dd9",
   "metadata": {},
   "outputs": [],
   "source": [
    "#x1 = scaler1.fit_transform(X[['Year_Birth']])"
   ]
  },
  {
   "cell_type": "code",
   "execution_count": 27,
   "id": "1b1e00f4",
   "metadata": {},
   "outputs": [],
   "source": [
    "#x1_df = pd.DataFrame(scaler1.fit_transform(X[['Year_Birth']]), columns = ['Year_Birth'])\n",
    "#x1_df.describe()"
   ]
  },
  {
   "cell_type": "code",
   "execution_count": 28,
   "id": "cd088456",
   "metadata": {},
   "outputs": [],
   "source": [
    "#x2_df = pd.DataFrame(scaler2.fit_transform(X[['Income']]), columns = ['Income'])\n",
    "#x2_df"
   ]
  },
  {
   "cell_type": "code",
   "execution_count": 29,
   "id": "0da7cf95",
   "metadata": {},
   "outputs": [],
   "source": [
    "#scaler.fit(X)"
   ]
  },
  {
   "cell_type": "code",
   "execution_count": 30,
   "id": "5888215b",
   "metadata": {},
   "outputs": [],
   "source": [
    "#caler.mean_"
   ]
  },
  {
   "cell_type": "code",
   "execution_count": 31,
   "id": "a7e4d455",
   "metadata": {},
   "outputs": [
    {
     "data": {
      "text/html": [
       "<div>\n",
       "<style scoped>\n",
       "    .dataframe tbody tr th:only-of-type {\n",
       "        vertical-align: middle;\n",
       "    }\n",
       "\n",
       "    .dataframe tbody tr th {\n",
       "        vertical-align: top;\n",
       "    }\n",
       "\n",
       "    .dataframe thead th {\n",
       "        text-align: right;\n",
       "    }\n",
       "</style>\n",
       "<table border=\"1\" class=\"dataframe\">\n",
       "  <thead>\n",
       "    <tr style=\"text-align: right;\">\n",
       "      <th></th>\n",
       "      <th>Year_Birth</th>\n",
       "      <th>Income</th>\n",
       "      <th>Kidhome</th>\n",
       "      <th>Teenhome</th>\n",
       "      <th>Recency</th>\n",
       "      <th>MntWines</th>\n",
       "      <th>MntFruits</th>\n",
       "      <th>MntMeatProducts</th>\n",
       "      <th>MntFishProducts</th>\n",
       "      <th>MntSweetProducts</th>\n",
       "      <th>...</th>\n",
       "      <th>NumWebVisitsMonth</th>\n",
       "      <th>AcceptedCmp3</th>\n",
       "      <th>AcceptedCmp4</th>\n",
       "      <th>AcceptedCmp5</th>\n",
       "      <th>AcceptedCmp1</th>\n",
       "      <th>AcceptedCmp2</th>\n",
       "      <th>Complain</th>\n",
       "      <th>Response</th>\n",
       "      <th>Education</th>\n",
       "      <th>Marital_Status</th>\n",
       "    </tr>\n",
       "  </thead>\n",
       "  <tbody>\n",
       "    <tr>\n",
       "      <th>0</th>\n",
       "      <td>1957</td>\n",
       "      <td>58138.0</td>\n",
       "      <td>0</td>\n",
       "      <td>0</td>\n",
       "      <td>58</td>\n",
       "      <td>635</td>\n",
       "      <td>88</td>\n",
       "      <td>546</td>\n",
       "      <td>172</td>\n",
       "      <td>88</td>\n",
       "      <td>...</td>\n",
       "      <td>7</td>\n",
       "      <td>0</td>\n",
       "      <td>0</td>\n",
       "      <td>0</td>\n",
       "      <td>0</td>\n",
       "      <td>0</td>\n",
       "      <td>0</td>\n",
       "      <td>1</td>\n",
       "      <td>2</td>\n",
       "      <td>2</td>\n",
       "    </tr>\n",
       "    <tr>\n",
       "      <th>1</th>\n",
       "      <td>1954</td>\n",
       "      <td>46344.0</td>\n",
       "      <td>1</td>\n",
       "      <td>1</td>\n",
       "      <td>38</td>\n",
       "      <td>11</td>\n",
       "      <td>1</td>\n",
       "      <td>6</td>\n",
       "      <td>2</td>\n",
       "      <td>1</td>\n",
       "      <td>...</td>\n",
       "      <td>5</td>\n",
       "      <td>0</td>\n",
       "      <td>0</td>\n",
       "      <td>0</td>\n",
       "      <td>0</td>\n",
       "      <td>0</td>\n",
       "      <td>0</td>\n",
       "      <td>0</td>\n",
       "      <td>2</td>\n",
       "      <td>2</td>\n",
       "    </tr>\n",
       "    <tr>\n",
       "      <th>2</th>\n",
       "      <td>1965</td>\n",
       "      <td>71613.0</td>\n",
       "      <td>0</td>\n",
       "      <td>0</td>\n",
       "      <td>26</td>\n",
       "      <td>426</td>\n",
       "      <td>49</td>\n",
       "      <td>127</td>\n",
       "      <td>111</td>\n",
       "      <td>21</td>\n",
       "      <td>...</td>\n",
       "      <td>4</td>\n",
       "      <td>0</td>\n",
       "      <td>0</td>\n",
       "      <td>0</td>\n",
       "      <td>0</td>\n",
       "      <td>0</td>\n",
       "      <td>0</td>\n",
       "      <td>0</td>\n",
       "      <td>2</td>\n",
       "      <td>3</td>\n",
       "    </tr>\n",
       "    <tr>\n",
       "      <th>3</th>\n",
       "      <td>1984</td>\n",
       "      <td>26646.0</td>\n",
       "      <td>1</td>\n",
       "      <td>0</td>\n",
       "      <td>26</td>\n",
       "      <td>11</td>\n",
       "      <td>4</td>\n",
       "      <td>20</td>\n",
       "      <td>10</td>\n",
       "      <td>3</td>\n",
       "      <td>...</td>\n",
       "      <td>6</td>\n",
       "      <td>0</td>\n",
       "      <td>0</td>\n",
       "      <td>0</td>\n",
       "      <td>0</td>\n",
       "      <td>0</td>\n",
       "      <td>0</td>\n",
       "      <td>0</td>\n",
       "      <td>2</td>\n",
       "      <td>3</td>\n",
       "    </tr>\n",
       "    <tr>\n",
       "      <th>4</th>\n",
       "      <td>1981</td>\n",
       "      <td>58293.0</td>\n",
       "      <td>1</td>\n",
       "      <td>0</td>\n",
       "      <td>94</td>\n",
       "      <td>173</td>\n",
       "      <td>43</td>\n",
       "      <td>118</td>\n",
       "      <td>46</td>\n",
       "      <td>27</td>\n",
       "      <td>...</td>\n",
       "      <td>5</td>\n",
       "      <td>0</td>\n",
       "      <td>0</td>\n",
       "      <td>0</td>\n",
       "      <td>0</td>\n",
       "      <td>0</td>\n",
       "      <td>0</td>\n",
       "      <td>0</td>\n",
       "      <td>4</td>\n",
       "      <td>1</td>\n",
       "    </tr>\n",
       "  </tbody>\n",
       "</table>\n",
       "<p>5 rows × 25 columns</p>\n",
       "</div>"
      ],
      "text/plain": [
       "   Year_Birth   Income  Kidhome  Teenhome  Recency  MntWines  MntFruits  \\\n",
       "0        1957  58138.0        0         0       58       635         88   \n",
       "1        1954  46344.0        1         1       38        11          1   \n",
       "2        1965  71613.0        0         0       26       426         49   \n",
       "3        1984  26646.0        1         0       26        11          4   \n",
       "4        1981  58293.0        1         0       94       173         43   \n",
       "\n",
       "   MntMeatProducts  MntFishProducts  MntSweetProducts  ...  NumWebVisitsMonth  \\\n",
       "0              546              172                88  ...                  7   \n",
       "1                6                2                 1  ...                  5   \n",
       "2              127              111                21  ...                  4   \n",
       "3               20               10                 3  ...                  6   \n",
       "4              118               46                27  ...                  5   \n",
       "\n",
       "   AcceptedCmp3  AcceptedCmp4  AcceptedCmp5  AcceptedCmp1  AcceptedCmp2  \\\n",
       "0             0             0             0             0             0   \n",
       "1             0             0             0             0             0   \n",
       "2             0             0             0             0             0   \n",
       "3             0             0             0             0             0   \n",
       "4             0             0             0             0             0   \n",
       "\n",
       "   Complain  Response  Education  Marital_Status  \n",
       "0         0         1          2               2  \n",
       "1         0         0          2               2  \n",
       "2         0         0          2               3  \n",
       "3         0         0          2               3  \n",
       "4         0         0          4               1  \n",
       "\n",
       "[5 rows x 25 columns]"
      ]
     },
     "execution_count": 31,
     "metadata": {},
     "output_type": "execute_result"
    }
   ],
   "source": [
    "X.head()"
   ]
  },
  {
   "cell_type": "code",
   "execution_count": 32,
   "id": "bd72918f",
   "metadata": {},
   "outputs": [
    {
     "data": {
      "text/html": [
       "<div>\n",
       "<style scoped>\n",
       "    .dataframe tbody tr th:only-of-type {\n",
       "        vertical-align: middle;\n",
       "    }\n",
       "\n",
       "    .dataframe tbody tr th {\n",
       "        vertical-align: top;\n",
       "    }\n",
       "\n",
       "    .dataframe thead th {\n",
       "        text-align: right;\n",
       "    }\n",
       "</style>\n",
       "<table border=\"1\" class=\"dataframe\">\n",
       "  <thead>\n",
       "    <tr style=\"text-align: right;\">\n",
       "      <th></th>\n",
       "      <th>Year_Birth</th>\n",
       "      <th>Income</th>\n",
       "      <th>Kidhome</th>\n",
       "      <th>Teenhome</th>\n",
       "      <th>Recency</th>\n",
       "      <th>MntWines</th>\n",
       "      <th>MntFruits</th>\n",
       "      <th>MntMeatProducts</th>\n",
       "      <th>MntFishProducts</th>\n",
       "      <th>MntSweetProducts</th>\n",
       "      <th>...</th>\n",
       "      <th>NumWebVisitsMonth</th>\n",
       "      <th>AcceptedCmp3</th>\n",
       "      <th>AcceptedCmp4</th>\n",
       "      <th>AcceptedCmp5</th>\n",
       "      <th>AcceptedCmp1</th>\n",
       "      <th>AcceptedCmp2</th>\n",
       "      <th>Complain</th>\n",
       "      <th>Response</th>\n",
       "      <th>Education</th>\n",
       "      <th>Marital_Status</th>\n",
       "    </tr>\n",
       "  </thead>\n",
       "  <tbody>\n",
       "    <tr>\n",
       "      <th>0</th>\n",
       "      <td>-1.017915</td>\n",
       "      <td>0.287689</td>\n",
       "      <td>-0.824004</td>\n",
       "      <td>-0.929587</td>\n",
       "      <td>0.309118</td>\n",
       "      <td>0.977018</td>\n",
       "      <td>1.553315</td>\n",
       "      <td>1.689944</td>\n",
       "      <td>2.464405</td>\n",
       "      <td>1.482521</td>\n",
       "      <td>...</td>\n",
       "      <td>0.692301</td>\n",
       "      <td>-0.282324</td>\n",
       "      <td>-0.283258</td>\n",
       "      <td>-0.279508</td>\n",
       "      <td>-0.26118</td>\n",
       "      <td>-0.117363</td>\n",
       "      <td>-0.095607</td>\n",
       "      <td>2.381322</td>\n",
       "      <td>-0.351204</td>\n",
       "      <td>0.253922</td>\n",
       "    </tr>\n",
       "    <tr>\n",
       "      <th>1</th>\n",
       "      <td>-1.274437</td>\n",
       "      <td>-0.260057</td>\n",
       "      <td>1.038228</td>\n",
       "      <td>0.907950</td>\n",
       "      <td>-0.382230</td>\n",
       "      <td>-0.871705</td>\n",
       "      <td>-0.636864</td>\n",
       "      <td>-0.717917</td>\n",
       "      <td>-0.651086</td>\n",
       "      <td>-0.634157</td>\n",
       "      <td>...</td>\n",
       "      <td>-0.133077</td>\n",
       "      <td>-0.282324</td>\n",
       "      <td>-0.283258</td>\n",
       "      <td>-0.279508</td>\n",
       "      <td>-0.26118</td>\n",
       "      <td>-0.117363</td>\n",
       "      <td>-0.095607</td>\n",
       "      <td>-0.419935</td>\n",
       "      <td>-0.351204</td>\n",
       "      <td>0.253922</td>\n",
       "    </tr>\n",
       "    <tr>\n",
       "      <th>2</th>\n",
       "      <td>-0.333858</td>\n",
       "      <td>0.913505</td>\n",
       "      <td>-0.824004</td>\n",
       "      <td>-0.929587</td>\n",
       "      <td>-0.797039</td>\n",
       "      <td>0.357814</td>\n",
       "      <td>0.571511</td>\n",
       "      <td>-0.178378</td>\n",
       "      <td>1.346494</td>\n",
       "      <td>-0.147565</td>\n",
       "      <td>...</td>\n",
       "      <td>-0.545767</td>\n",
       "      <td>-0.282324</td>\n",
       "      <td>-0.283258</td>\n",
       "      <td>-0.279508</td>\n",
       "      <td>-0.26118</td>\n",
       "      <td>-0.117363</td>\n",
       "      <td>-0.095607</td>\n",
       "      <td>-0.419935</td>\n",
       "      <td>-0.351204</td>\n",
       "      <td>1.194627</td>\n",
       "    </tr>\n",
       "    <tr>\n",
       "      <th>3</th>\n",
       "      <td>1.290779</td>\n",
       "      <td>-1.174887</td>\n",
       "      <td>1.038228</td>\n",
       "      <td>-0.929587</td>\n",
       "      <td>-0.797039</td>\n",
       "      <td>-0.871705</td>\n",
       "      <td>-0.561341</td>\n",
       "      <td>-0.655491</td>\n",
       "      <td>-0.504474</td>\n",
       "      <td>-0.585498</td>\n",
       "      <td>...</td>\n",
       "      <td>0.279612</td>\n",
       "      <td>-0.282324</td>\n",
       "      <td>-0.283258</td>\n",
       "      <td>-0.279508</td>\n",
       "      <td>-0.26118</td>\n",
       "      <td>-0.117363</td>\n",
       "      <td>-0.095607</td>\n",
       "      <td>-0.419935</td>\n",
       "      <td>-0.351204</td>\n",
       "      <td>1.194627</td>\n",
       "    </tr>\n",
       "    <tr>\n",
       "      <th>4</th>\n",
       "      <td>1.034258</td>\n",
       "      <td>0.294887</td>\n",
       "      <td>1.038228</td>\n",
       "      <td>-0.929587</td>\n",
       "      <td>1.553545</td>\n",
       "      <td>-0.391748</td>\n",
       "      <td>0.420464</td>\n",
       "      <td>-0.218509</td>\n",
       "      <td>0.155277</td>\n",
       "      <td>-0.001587</td>\n",
       "      <td>...</td>\n",
       "      <td>-0.133077</td>\n",
       "      <td>-0.282324</td>\n",
       "      <td>-0.283258</td>\n",
       "      <td>-0.279508</td>\n",
       "      <td>-0.26118</td>\n",
       "      <td>-0.117363</td>\n",
       "      <td>-0.095607</td>\n",
       "      <td>-0.419935</td>\n",
       "      <td>1.431460</td>\n",
       "      <td>-0.686783</td>\n",
       "    </tr>\n",
       "  </tbody>\n",
       "</table>\n",
       "<p>5 rows × 25 columns</p>\n",
       "</div>"
      ],
      "text/plain": [
       "   Year_Birth    Income   Kidhome  Teenhome   Recency  MntWines  MntFruits  \\\n",
       "0   -1.017915  0.287689 -0.824004 -0.929587  0.309118  0.977018   1.553315   \n",
       "1   -1.274437 -0.260057  1.038228  0.907950 -0.382230 -0.871705  -0.636864   \n",
       "2   -0.333858  0.913505 -0.824004 -0.929587 -0.797039  0.357814   0.571511   \n",
       "3    1.290779 -1.174887  1.038228 -0.929587 -0.797039 -0.871705  -0.561341   \n",
       "4    1.034258  0.294887  1.038228 -0.929587  1.553545 -0.391748   0.420464   \n",
       "\n",
       "   MntMeatProducts  MntFishProducts  MntSweetProducts  ...  NumWebVisitsMonth  \\\n",
       "0         1.689944         2.464405          1.482521  ...           0.692301   \n",
       "1        -0.717917        -0.651086         -0.634157  ...          -0.133077   \n",
       "2        -0.178378         1.346494         -0.147565  ...          -0.545767   \n",
       "3        -0.655491        -0.504474         -0.585498  ...           0.279612   \n",
       "4        -0.218509         0.155277         -0.001587  ...          -0.133077   \n",
       "\n",
       "   AcceptedCmp3  AcceptedCmp4  AcceptedCmp5  AcceptedCmp1  AcceptedCmp2  \\\n",
       "0     -0.282324     -0.283258     -0.279508      -0.26118     -0.117363   \n",
       "1     -0.282324     -0.283258     -0.279508      -0.26118     -0.117363   \n",
       "2     -0.282324     -0.283258     -0.279508      -0.26118     -0.117363   \n",
       "3     -0.282324     -0.283258     -0.279508      -0.26118     -0.117363   \n",
       "4     -0.282324     -0.283258     -0.279508      -0.26118     -0.117363   \n",
       "\n",
       "   Complain  Response  Education  Marital_Status  \n",
       "0 -0.095607  2.381322  -0.351204        0.253922  \n",
       "1 -0.095607 -0.419935  -0.351204        0.253922  \n",
       "2 -0.095607 -0.419935  -0.351204        1.194627  \n",
       "3 -0.095607 -0.419935  -0.351204        1.194627  \n",
       "4 -0.095607 -0.419935   1.431460       -0.686783  \n",
       "\n",
       "[5 rows x 25 columns]"
      ]
     },
     "execution_count": 32,
     "metadata": {},
     "output_type": "execute_result"
    }
   ],
   "source": [
    "X_n = pd.DataFrame(scaler.fit_transform(X), columns = X.columns)\n",
    "X_n.head()"
   ]
  },
  {
   "cell_type": "code",
   "execution_count": 33,
   "id": "99b444e6",
   "metadata": {},
   "outputs": [],
   "source": [
    "#Inverse transform test\n",
    "\n",
    "#X_r = pd.DataFrame(scaler.inverse_transform(X_n), columns = X.columns)\n",
    "#X_r.head()"
   ]
  },
  {
   "cell_type": "markdown",
   "id": "cae47ab4",
   "metadata": {},
   "source": [
    "Heat map ?"
   ]
  },
  {
   "cell_type": "code",
   "execution_count": 34,
   "id": "e69c7724",
   "metadata": {},
   "outputs": [],
   "source": [
    "#fig = plt.figure(figsize=(20, 20))\n",
    "\n",
    "#sns.heatmap(X_n.corr(), annot = True, fmt=\".1f\")"
   ]
  },
  {
   "cell_type": "markdown",
   "id": "de29026a",
   "metadata": {},
   "source": [
    "# CLASSIFICATION"
   ]
  },
  {
   "cell_type": "markdown",
   "id": "96aa4e4c",
   "metadata": {},
   "source": [
    "## Cluster number optimization"
   ]
  },
  {
   "cell_type": "code",
   "execution_count": 35,
   "id": "dc1cec87",
   "metadata": {},
   "outputs": [],
   "source": [
    "from sklearn.cluster import KMeans"
   ]
  },
  {
   "cell_type": "code",
   "execution_count": 36,
   "id": "7cf5a6c4",
   "metadata": {},
   "outputs": [
    {
     "name": "stderr",
     "output_type": "stream",
     "text": [
      "C:\\Users\\utile\\anaconda3\\lib\\site-packages\\sklearn\\cluster\\_kmeans.py:1036: UserWarning: KMeans is known to have a memory leak on Windows with MKL, when there are less chunks than available threads. You can avoid it by setting the environment variable OMP_NUM_THREADS=9.\n",
      "  warnings.warn(\n"
     ]
    }
   ],
   "source": [
    "sse = []\n",
    "for k in range(1, 13):\n",
    "    model_km = KMeans(n_clusters=k)\n",
    "    model_km.fit(X_n)\n",
    "    sse.append(model_km.inertia_)"
   ]
  },
  {
   "cell_type": "code",
   "execution_count": 37,
   "id": "da527d40",
   "metadata": {},
   "outputs": [],
   "source": [
    "cluster_df = pd.DataFrame({'Cluster':range(1,13), 'sse':sse})\n",
    "#cluster_df"
   ]
  },
  {
   "cell_type": "code",
   "execution_count": 38,
   "id": "5693fe3f",
   "metadata": {},
   "outputs": [
    {
     "data": {
      "image/png": "[encoded data removed]",
      "text/plain": [
       "<Figure size 1200x600 with 1 Axes>"
      ]
     },
     "metadata": {},
     "output_type": "display_data"
    }
   ],
   "source": [
    "plt.figure(figsize=(12,6))\n",
    "plt.plot(cluster_df['Cluster'], cluster_df['sse'])\n",
    "plt.xlabel('Number of clusters')\n",
    "plt.ylabel('Inertia')\n",
    "plt.xticks(cluster_df['Cluster'])\n",
    "plt.show()"
   ]
  },
  {
   "cell_type": "code",
   "execution_count": 39,
   "id": "ab032a6c",
   "metadata": {},
   "outputs": [],
   "source": [
    "n_clusters = 2\n",
    "random_state = 130"
   ]
  },
  {
   "cell_type": "markdown",
   "id": "1ae9c5dc",
   "metadata": {},
   "source": [
    "## Train"
   ]
  },
  {
   "cell_type": "code",
   "execution_count": 40,
   "id": "07f7613c",
   "metadata": {},
   "outputs": [],
   "source": [
    "model_orig = KMeans(n_clusters = n_clusters, random_state = random_state)\n",
    "model_n = KMeans(n_clusters = n_clusters, random_state = random_state)"
   ]
  },
  {
   "cell_type": "code",
   "execution_count": 41,
   "id": "d7702b1c",
   "metadata": {},
   "outputs": [],
   "source": [
    "#model.get_params()"
   ]
  },
  {
   "cell_type": "code",
   "execution_count": 42,
   "id": "f1f74d00",
   "metadata": {},
   "outputs": [
    {
     "data": {
      "text/plain": [
       "KMeans(n_clusters=2, random_state=130)"
      ]
     },
     "execution_count": 42,
     "metadata": {},
     "output_type": "execute_result"
    }
   ],
   "source": [
    "model_orig.fit(X)\n",
    "model_n.fit(X_n)"
   ]
  },
  {
   "cell_type": "code",
   "execution_count": 43,
   "id": "00240691",
   "metadata": {},
   "outputs": [],
   "source": [
    "#model.inertia_"
   ]
  },
  {
   "cell_type": "code",
   "execution_count": 44,
   "id": "8f57bb98",
   "metadata": {},
   "outputs": [
    {
     "data": {
      "text/plain": [
       "0    1134\n",
       "1    1074\n",
       "Name: y_pred, dtype: int64"
      ]
     },
     "execution_count": 44,
     "metadata": {},
     "output_type": "execute_result"
    }
   ],
   "source": [
    "y_pred_orig = model_orig.predict(X)\n",
    "y_pred_orig_df = pd.DataFrame(y_pred_orig, columns=['y_pred'])\n",
    "y_pred_orig_df['y_pred'].value_counts()"
   ]
  },
  {
   "cell_type": "code",
   "execution_count": 45,
   "id": "5eabcd61",
   "metadata": {},
   "outputs": [
    {
     "data": {
      "text/plain": [
       "1    1329\n",
       "0     879\n",
       "Name: y_pred, dtype: int64"
      ]
     },
     "execution_count": 45,
     "metadata": {},
     "output_type": "execute_result"
    }
   ],
   "source": [
    "y_pred_n = model_n.predict(X_n)\n",
    "y_pred_n_df = pd.DataFrame(y_pred_n, columns=['y_pred'])\n",
    "y_pred_n_df['y_pred'].value_counts()"
   ]
  },
  {
   "cell_type": "code",
   "execution_count": 46,
   "id": "532bf1f8",
   "metadata": {},
   "outputs": [],
   "source": [
    "#model.cluster_centers_"
   ]
  },
  {
   "cell_type": "code",
   "execution_count": 47,
   "id": "68f552bf",
   "metadata": {
    "scrolled": false
   },
   "outputs": [
    {
     "data": {
      "text/html": [
       "<div>\n",
       "<style scoped>\n",
       "    .dataframe tbody tr th:only-of-type {\n",
       "        vertical-align: middle;\n",
       "    }\n",
       "\n",
       "    .dataframe tbody tr th {\n",
       "        vertical-align: top;\n",
       "    }\n",
       "\n",
       "    .dataframe thead th {\n",
       "        text-align: right;\n",
       "    }\n",
       "</style>\n",
       "<table border=\"1\" class=\"dataframe\">\n",
       "  <thead>\n",
       "    <tr style=\"text-align: right;\">\n",
       "      <th></th>\n",
       "      <th>Year_Birth</th>\n",
       "      <th>Income</th>\n",
       "      <th>Kidhome</th>\n",
       "      <th>Teenhome</th>\n",
       "      <th>Recency</th>\n",
       "      <th>MntWines</th>\n",
       "      <th>MntFruits</th>\n",
       "      <th>MntMeatProducts</th>\n",
       "      <th>MntFishProducts</th>\n",
       "      <th>MntSweetProducts</th>\n",
       "      <th>...</th>\n",
       "      <th>NumWebVisitsMonth</th>\n",
       "      <th>AcceptedCmp3</th>\n",
       "      <th>AcceptedCmp4</th>\n",
       "      <th>AcceptedCmp5</th>\n",
       "      <th>AcceptedCmp1</th>\n",
       "      <th>AcceptedCmp2</th>\n",
       "      <th>Complain</th>\n",
       "      <th>Response</th>\n",
       "      <th>Education</th>\n",
       "      <th>Marital_Status</th>\n",
       "    </tr>\n",
       "  </thead>\n",
       "  <tbody>\n",
       "    <tr>\n",
       "      <th>1</th>\n",
       "      <td>1966.725326</td>\n",
       "      <td>70308.50838</td>\n",
       "      <td>0.152700</td>\n",
       "      <td>0.540037</td>\n",
       "      <td>49.059590</td>\n",
       "      <td>544.420857</td>\n",
       "      <td>46.558659</td>\n",
       "      <td>304.866853</td>\n",
       "      <td>65.289572</td>\n",
       "      <td>47.800745</td>\n",
       "      <td>...</td>\n",
       "      <td>3.918994</td>\n",
       "      <td>0.064246</td>\n",
       "      <td>0.127561</td>\n",
       "      <td>0.148045</td>\n",
       "      <td>0.127561</td>\n",
       "      <td>0.024209</td>\n",
       "      <td>0.006518</td>\n",
       "      <td>0.189013</td>\n",
       "      <td>2.506518</td>\n",
       "      <td>1.726257</td>\n",
       "    </tr>\n",
       "    <tr>\n",
       "      <th>0</th>\n",
       "      <td>1970.968254</td>\n",
       "      <td>34550.22575</td>\n",
       "      <td>0.716931</td>\n",
       "      <td>0.473545</td>\n",
       "      <td>49.055556</td>\n",
       "      <td>78.688713</td>\n",
       "      <td>7.109347</td>\n",
       "      <td>36.435626</td>\n",
       "      <td>11.233686</td>\n",
       "      <td>7.426808</td>\n",
       "      <td>...</td>\n",
       "      <td>6.651675</td>\n",
       "      <td>0.082892</td>\n",
       "      <td>0.023810</td>\n",
       "      <td>0.000882</td>\n",
       "      <td>0.003527</td>\n",
       "      <td>0.003527</td>\n",
       "      <td>0.011464</td>\n",
       "      <td>0.112875</td>\n",
       "      <td>2.287478</td>\n",
       "      <td>1.733686</td>\n",
       "    </tr>\n",
       "  </tbody>\n",
       "</table>\n",
       "<p>2 rows × 25 columns</p>\n",
       "</div>"
      ],
      "text/plain": [
       "    Year_Birth       Income   Kidhome  Teenhome    Recency    MntWines  \\\n",
       "1  1966.725326  70308.50838  0.152700  0.540037  49.059590  544.420857   \n",
       "0  1970.968254  34550.22575  0.716931  0.473545  49.055556   78.688713   \n",
       "\n",
       "   MntFruits  MntMeatProducts  MntFishProducts  MntSweetProducts  ...  \\\n",
       "1  46.558659       304.866853        65.289572         47.800745  ...   \n",
       "0   7.109347        36.435626        11.233686          7.426808  ...   \n",
       "\n",
       "   NumWebVisitsMonth  AcceptedCmp3  AcceptedCmp4  AcceptedCmp5  AcceptedCmp1  \\\n",
       "1           3.918994      0.064246      0.127561      0.148045      0.127561   \n",
       "0           6.651675      0.082892      0.023810      0.000882      0.003527   \n",
       "\n",
       "   AcceptedCmp2  Complain  Response  Education  Marital_Status  \n",
       "1      0.024209  0.006518  0.189013   2.506518        1.726257  \n",
       "0      0.003527  0.011464  0.112875   2.287478        1.733686  \n",
       "\n",
       "[2 rows x 25 columns]"
      ]
     },
     "execution_count": 47,
     "metadata": {},
     "output_type": "execute_result"
    }
   ],
   "source": [
    "centers_orig = pd.DataFrame(model_orig.cluster_centers_, columns = X.columns)\n",
    "centers_orig.sort_values('Year_Birth', inplace = True)\n",
    "centers_orig"
   ]
  },
  {
   "cell_type": "code",
   "execution_count": 48,
   "id": "d5436cd9",
   "metadata": {
    "scrolled": false
   },
   "outputs": [
    {
     "data": {
      "text/html": [
       "<div>\n",
       "<style scoped>\n",
       "    .dataframe tbody tr th:only-of-type {\n",
       "        vertical-align: middle;\n",
       "    }\n",
       "\n",
       "    .dataframe tbody tr th {\n",
       "        vertical-align: top;\n",
       "    }\n",
       "\n",
       "    .dataframe thead th {\n",
       "        text-align: right;\n",
       "    }\n",
       "</style>\n",
       "<table border=\"1\" class=\"dataframe\">\n",
       "  <thead>\n",
       "    <tr style=\"text-align: right;\">\n",
       "      <th></th>\n",
       "      <th>Year_Birth</th>\n",
       "      <th>Income</th>\n",
       "      <th>Kidhome</th>\n",
       "      <th>Teenhome</th>\n",
       "      <th>Recency</th>\n",
       "      <th>MntWines</th>\n",
       "      <th>MntFruits</th>\n",
       "      <th>MntMeatProducts</th>\n",
       "      <th>MntFishProducts</th>\n",
       "      <th>MntSweetProducts</th>\n",
       "      <th>...</th>\n",
       "      <th>NumWebVisitsMonth</th>\n",
       "      <th>AcceptedCmp3</th>\n",
       "      <th>AcceptedCmp4</th>\n",
       "      <th>AcceptedCmp5</th>\n",
       "      <th>AcceptedCmp1</th>\n",
       "      <th>AcceptedCmp2</th>\n",
       "      <th>Complain</th>\n",
       "      <th>Response</th>\n",
       "      <th>Education</th>\n",
       "      <th>Marital_Status</th>\n",
       "    </tr>\n",
       "  </thead>\n",
       "  <tbody>\n",
       "    <tr>\n",
       "      <th>0</th>\n",
       "      <td>-0.159049</td>\n",
       "      <td>0.913976</td>\n",
       "      <td>-0.705363</td>\n",
       "      <td>-0.139384</td>\n",
       "      <td>0.006427</td>\n",
       "      <td>0.903941</td>\n",
       "      <td>0.745727</td>\n",
       "      <td>0.872871</td>\n",
       "      <td>0.764281</td>\n",
       "      <td>0.745435</td>\n",
       "      <td>...</td>\n",
       "      <td>-0.670184</td>\n",
       "      <td>0.035285</td>\n",
       "      <td>0.224357</td>\n",
       "      <td>0.422602</td>\n",
       "      <td>0.362319</td>\n",
       "      <td>0.157793</td>\n",
       "      <td>-0.011551</td>\n",
       "      <td>0.233373</td>\n",
       "      <td>0.054408</td>\n",
       "      <td>0.013127</td>\n",
       "    </tr>\n",
       "    <tr>\n",
       "      <th>1</th>\n",
       "      <td>0.105195</td>\n",
       "      <td>-0.604504</td>\n",
       "      <td>0.466527</td>\n",
       "      <td>0.092188</td>\n",
       "      <td>-0.004251</td>\n",
       "      <td>-0.597866</td>\n",
       "      <td>-0.493224</td>\n",
       "      <td>-0.577316</td>\n",
       "      <td>-0.505495</td>\n",
       "      <td>-0.493031</td>\n",
       "      <td>...</td>\n",
       "      <td>0.443259</td>\n",
       "      <td>-0.023338</td>\n",
       "      <td>-0.148389</td>\n",
       "      <td>-0.279508</td>\n",
       "      <td>-0.239637</td>\n",
       "      <td>-0.104364</td>\n",
       "      <td>0.007640</td>\n",
       "      <td>-0.154353</td>\n",
       "      <td>-0.035985</td>\n",
       "      <td>-0.008682</td>\n",
       "    </tr>\n",
       "  </tbody>\n",
       "</table>\n",
       "<p>2 rows × 25 columns</p>\n",
       "</div>"
      ],
      "text/plain": [
       "   Year_Birth    Income   Kidhome  Teenhome   Recency  MntWines  MntFruits  \\\n",
       "0   -0.159049  0.913976 -0.705363 -0.139384  0.006427  0.903941   0.745727   \n",
       "1    0.105195 -0.604504  0.466527  0.092188 -0.004251 -0.597866  -0.493224   \n",
       "\n",
       "   MntMeatProducts  MntFishProducts  MntSweetProducts  ...  NumWebVisitsMonth  \\\n",
       "0         0.872871         0.764281          0.745435  ...          -0.670184   \n",
       "1        -0.577316        -0.505495         -0.493031  ...           0.443259   \n",
       "\n",
       "   AcceptedCmp3  AcceptedCmp4  AcceptedCmp5  AcceptedCmp1  AcceptedCmp2  \\\n",
       "0      0.035285      0.224357      0.422602      0.362319      0.157793   \n",
       "1     -0.023338     -0.148389     -0.279508     -0.239637     -0.104364   \n",
       "\n",
       "   Complain  Response  Education  Marital_Status  \n",
       "0 -0.011551  0.233373   0.054408        0.013127  \n",
       "1  0.007640 -0.154353  -0.035985       -0.008682  \n",
       "\n",
       "[2 rows x 25 columns]"
      ]
     },
     "execution_count": 48,
     "metadata": {},
     "output_type": "execute_result"
    }
   ],
   "source": [
    "centers_n = pd.DataFrame(model_n.cluster_centers_, columns = X.columns)\n",
    "centers_n"
   ]
  },
  {
   "cell_type": "code",
   "execution_count": 49,
   "id": "8c1b220e",
   "metadata": {},
   "outputs": [
    {
     "data": {
      "text/html": [
       "<div>\n",
       "<style scoped>\n",
       "    .dataframe tbody tr th:only-of-type {\n",
       "        vertical-align: middle;\n",
       "    }\n",
       "\n",
       "    .dataframe tbody tr th {\n",
       "        vertical-align: top;\n",
       "    }\n",
       "\n",
       "    .dataframe thead th {\n",
       "        text-align: right;\n",
       "    }\n",
       "</style>\n",
       "<table border=\"1\" class=\"dataframe\">\n",
       "  <thead>\n",
       "    <tr style=\"text-align: right;\">\n",
       "      <th></th>\n",
       "      <th>Year_Birth</th>\n",
       "      <th>Income</th>\n",
       "      <th>Kidhome</th>\n",
       "      <th>Teenhome</th>\n",
       "      <th>Recency</th>\n",
       "      <th>MntWines</th>\n",
       "      <th>MntFruits</th>\n",
       "      <th>MntMeatProducts</th>\n",
       "      <th>MntFishProducts</th>\n",
       "      <th>MntSweetProducts</th>\n",
       "      <th>...</th>\n",
       "      <th>NumWebVisitsMonth</th>\n",
       "      <th>AcceptedCmp3</th>\n",
       "      <th>AcceptedCmp4</th>\n",
       "      <th>AcceptedCmp5</th>\n",
       "      <th>AcceptedCmp1</th>\n",
       "      <th>AcceptedCmp2</th>\n",
       "      <th>Complain</th>\n",
       "      <th>Response</th>\n",
       "      <th>Education</th>\n",
       "      <th>Marital_Status</th>\n",
       "    </tr>\n",
       "  </thead>\n",
       "  <tbody>\n",
       "    <tr>\n",
       "      <th>0</th>\n",
       "      <td>1967.044369</td>\n",
       "      <td>71623.150171</td>\n",
       "      <td>0.063709</td>\n",
       "      <td>0.430034</td>\n",
       "      <td>49.243458</td>\n",
       "      <td>610.334471</td>\n",
       "      <td>55.920364</td>\n",
       "      <td>362.758817</td>\n",
       "      <td>79.230944</td>\n",
       "      <td>57.704209</td>\n",
       "      <td>...</td>\n",
       "      <td>3.698521</td>\n",
       "      <td>0.083049</td>\n",
       "      <td>0.133106</td>\n",
       "      <td>1.820250e-01</td>\n",
       "      <td>0.152446</td>\n",
       "      <td>0.031854</td>\n",
       "      <td>0.007964</td>\n",
       "      <td>0.233220</td>\n",
       "      <td>2.455063</td>\n",
       "      <td>1.744027</td>\n",
       "    </tr>\n",
       "    <tr>\n",
       "      <th>1</th>\n",
       "      <td>1970.134688</td>\n",
       "      <td>38927.422874</td>\n",
       "      <td>0.693002</td>\n",
       "      <td>0.556057</td>\n",
       "      <td>48.934537</td>\n",
       "      <td>103.428894</td>\n",
       "      <td>6.705794</td>\n",
       "      <td>37.531979</td>\n",
       "      <td>9.944319</td>\n",
       "      <td>6.800602</td>\n",
       "      <td>...</td>\n",
       "      <td>6.396539</td>\n",
       "      <td>0.067720</td>\n",
       "      <td>0.035365</td>\n",
       "      <td>-1.387779e-17</td>\n",
       "      <td>0.005267</td>\n",
       "      <td>0.001505</td>\n",
       "      <td>0.009782</td>\n",
       "      <td>0.094808</td>\n",
       "      <td>2.353649</td>\n",
       "      <td>1.720843</td>\n",
       "    </tr>\n",
       "  </tbody>\n",
       "</table>\n",
       "<p>2 rows × 25 columns</p>\n",
       "</div>"
      ],
      "text/plain": [
       "    Year_Birth        Income   Kidhome  Teenhome    Recency    MntWines  \\\n",
       "0  1967.044369  71623.150171  0.063709  0.430034  49.243458  610.334471   \n",
       "1  1970.134688  38927.422874  0.693002  0.556057  48.934537  103.428894   \n",
       "\n",
       "   MntFruits  MntMeatProducts  MntFishProducts  MntSweetProducts  ...  \\\n",
       "0  55.920364       362.758817        79.230944         57.704209  ...   \n",
       "1   6.705794        37.531979         9.944319          6.800602  ...   \n",
       "\n",
       "   NumWebVisitsMonth  AcceptedCmp3  AcceptedCmp4  AcceptedCmp5  AcceptedCmp1  \\\n",
       "0           3.698521      0.083049      0.133106  1.820250e-01      0.152446   \n",
       "1           6.396539      0.067720      0.035365 -1.387779e-17      0.005267   \n",
       "\n",
       "   AcceptedCmp2  Complain  Response  Education  Marital_Status  \n",
       "0      0.031854  0.007964  0.233220   2.455063        1.744027  \n",
       "1      0.001505  0.009782  0.094808   2.353649        1.720843  \n",
       "\n",
       "[2 rows x 25 columns]"
      ]
     },
     "execution_count": 49,
     "metadata": {},
     "output_type": "execute_result"
    }
   ],
   "source": [
    "centers_r = pd.DataFrame(scaler.inverse_transform(centers_n), columns = X.columns)\n",
    "centers_r.sort_values('Year_Birth', inplace = True)\n",
    "centers_r"
   ]
  },
  {
   "cell_type": "markdown",
   "id": "c78b4ee0",
   "metadata": {},
   "source": [
    "## Evaluation"
   ]
  },
  {
   "cell_type": "code",
   "execution_count": 50,
   "id": "c4410ad5",
   "metadata": {},
   "outputs": [],
   "source": [
    "from sklearn.metrics import silhouette_score"
   ]
  },
  {
   "cell_type": "code",
   "execution_count": 51,
   "id": "1714bab5",
   "metadata": {},
   "outputs": [],
   "source": [
    "#model_orig.labels_"
   ]
  },
  {
   "cell_type": "code",
   "execution_count": 52,
   "id": "82a38d22",
   "metadata": {},
   "outputs": [
    {
     "data": {
      "text/plain": [
       "0.6065025793693138"
      ]
     },
     "execution_count": 52,
     "metadata": {},
     "output_type": "execute_result"
    }
   ],
   "source": [
    "sil_orig = silhouette_score(X, model_orig.labels_) # metric='euclidean', sample_size=None, random_state=None, **kwds\n",
    "sil_orig"
   ]
  },
  {
   "cell_type": "code",
   "execution_count": 53,
   "id": "c5db313a",
   "metadata": {},
   "outputs": [
    {
     "data": {
      "text/plain": [
       "0.24264486823378154"
      ]
     },
     "execution_count": 53,
     "metadata": {},
     "output_type": "execute_result"
    }
   ],
   "source": [
    "sil_n = silhouette_score(X_n, model_n.labels_) # metric='euclidean', sample_size=None, random_state=None, **kwds\n",
    "sil_n"
   ]
  },
  {
   "cell_type": "markdown",
   "id": "a89e9eea",
   "metadata": {},
   "source": [
    "# BACK TO FEATURES ENGINEERING = PCA"
   ]
  },
  {
   "cell_type": "code",
   "execution_count": 54,
   "id": "f0f0fa6b",
   "metadata": {},
   "outputs": [],
   "source": [
    "#sns.pairplot(X)"
   ]
  },
  {
   "cell_type": "code",
   "execution_count": 55,
   "id": "0db6df19",
   "metadata": {},
   "outputs": [],
   "source": [
    "from sklearn.decomposition import PCA"
   ]
  },
  {
   "cell_type": "code",
   "execution_count": 56,
   "id": "accfb1ee",
   "metadata": {},
   "outputs": [],
   "source": [
    "n_components = 2"
   ]
  },
  {
   "cell_type": "code",
   "execution_count": 57,
   "id": "2050ae85",
   "metadata": {},
   "outputs": [],
   "source": [
    "#pca = PCA()"
   ]
  },
  {
   "cell_type": "code",
   "execution_count": 58,
   "id": "20fe3321",
   "metadata": {},
   "outputs": [],
   "source": [
    "pca = PCA(n_components=n_components)"
   ]
  },
  {
   "cell_type": "code",
   "execution_count": 59,
   "id": "1a625c9c",
   "metadata": {},
   "outputs": [
    {
     "data": {
      "text/plain": [
       "PCA(n_components=2)"
      ]
     },
     "execution_count": 59,
     "metadata": {},
     "output_type": "execute_result"
    }
   ],
   "source": [
    "pca.fit(X)"
   ]
  },
  {
   "cell_type": "code",
   "execution_count": 60,
   "id": "048df831",
   "metadata": {},
   "outputs": [],
   "source": [
    "#X.shape"
   ]
  },
  {
   "cell_type": "code",
   "execution_count": 61,
   "id": "d1e9084e",
   "metadata": {},
   "outputs": [],
   "source": [
    "X_pca = pca.transform(X)\n",
    " \n",
    "# Check the dimensions of data after PCA\n",
    "#X_pca.shape"
   ]
  },
  {
   "cell_type": "code",
   "execution_count": 62,
   "id": "d0909ba9",
   "metadata": {},
   "outputs": [],
   "source": [
    "# Check the values of eigen vectors\n",
    "# prodeced by principal components\n",
    "#pca.components_"
   ]
  },
  {
   "cell_type": "code",
   "execution_count": 63,
   "id": "5db7f34a",
   "metadata": {},
   "outputs": [
    {
     "name": "stdout",
     "output_type": "stream",
     "text": [
      "      Year_Birth    Income   Kidhome      Teenhome   Recency  MntWines  \\\n",
      "PC-1   -0.000109  0.999913 -0.000013  8.975088e-07  0.000010  0.010791   \n",
      "PC-2    0.000760  0.012079  0.000451  1.759027e-04 -0.002073 -0.979086   \n",
      "\n",
      "      MntFruits  MntMeatProducts  MntFishProducts  MntSweetProducts  ...  \\\n",
      "PC-1   0.000935         0.007214         0.001317          0.001000  ...   \n",
      "PC-2  -0.014419        -0.196888        -0.021719         -0.012341  ...   \n",
      "\n",
      "      NumWebVisitsMonth  AcceptedCmp3  AcceptedCmp4  AcceptedCmp5  \\\n",
      "PC-1          -0.000073 -1.814776e-07      0.000003      0.000005   \n",
      "PC-2          -0.001474 -1.075311e-04     -0.000300     -0.000301   \n",
      "\n",
      "      AcceptedCmp1  AcceptedCmp2      Complain  Response  Education  \\\n",
      "PC-1      0.000004  5.601390e-07 -1.225245e-07  0.000003   0.000008   \n",
      "PC-2     -0.000184 -8.125343e-05  8.962121e-06 -0.000295  -0.000516   \n",
      "\n",
      "      Marital_Status  \n",
      "PC-1    5.206356e-07  \n",
      "PC-2   -1.885572e-05  \n",
      "\n",
      "[2 rows x 25 columns]\n"
     ]
    }
   ],
   "source": [
    "# Dump components relations with features:\n",
    "print(pd.DataFrame(pca.components_,columns=X.columns,index = ['PC-1','PC-2']))"
   ]
  },
  {
   "cell_type": "code",
   "execution_count": 64,
   "id": "41a71258",
   "metadata": {},
   "outputs": [
    {
     "data": {
      "text/plain": [
       "Text(0, 0.5, 'pc2')"
      ]
     },
     "execution_count": 64,
     "metadata": {},
     "output_type": "execute_result"
    },
    {
     "data": {
      "image/png": "[encoded data removed]",
      "text/plain": [
       "<Figure size 500x500 with 1 Axes>"
      ]
     },
     "metadata": {},
     "output_type": "display_data"
    }
   ],
   "source": [
    "plt.figure(figsize=(5, 5))\n",
    "plt.scatter(X_pca[:,0],X_pca[:,1],c=y_pred_orig,cmap='plasma')\n",
    "plt.xlabel('pc1')\n",
    "plt.ylabel('pc2')"
   ]
  },
  {
   "cell_type": "code",
   "execution_count": 65,
   "id": "0b251384",
   "metadata": {},
   "outputs": [],
   "source": [
    "pca_n = PCA(n_components=n_components)"
   ]
  },
  {
   "cell_type": "code",
   "execution_count": 66,
   "id": "818a5b6e",
   "metadata": {},
   "outputs": [
    {
     "data": {
      "text/plain": [
       "PCA(n_components=2)"
      ]
     },
     "execution_count": 66,
     "metadata": {},
     "output_type": "execute_result"
    }
   ],
   "source": [
    "pca_n.fit(X_n)"
   ]
  },
  {
   "cell_type": "code",
   "execution_count": 67,
   "id": "c09491a5",
   "metadata": {},
   "outputs": [],
   "source": [
    "X_n_pca = pca_n.transform(X_n)"
   ]
  },
  {
   "cell_type": "code",
   "execution_count": 68,
   "id": "2bfb0758",
   "metadata": {},
   "outputs": [],
   "source": [
    "#pca_n.components_"
   ]
  },
  {
   "cell_type": "code",
   "execution_count": 69,
   "id": "073deb76",
   "metadata": {},
   "outputs": [
    {
     "name": "stdout",
     "output_type": "stream",
     "text": [
      "      Year_Birth    Income   Kidhome  Teenhome   Recency  MntWines  MntFruits  \\\n",
      "PC-1   -0.061382  0.330897 -0.252681 -0.051401  0.001150  0.303665   0.260581   \n",
      "PC-2   -0.357322  0.081886 -0.084684  0.519476  0.022362  0.196015  -0.148253   \n",
      "\n",
      "      MntMeatProducts  MntFishProducts  MntSweetProducts  ...  \\\n",
      "PC-1         0.310669         0.270617          0.264654  ...   \n",
      "PC-2        -0.128839        -0.160290         -0.138045  ...   \n",
      "\n",
      "      NumWebVisitsMonth  AcceptedCmp3  AcceptedCmp4  AcceptedCmp5  \\\n",
      "PC-1          -0.245171      0.019055      0.095860      0.188317   \n",
      "PC-2           0.169227     -0.061142      0.176111     -0.103094   \n",
      "\n",
      "      AcceptedCmp1  AcceptedCmp2  Complain  Response  Education  \\\n",
      "PC-1      0.168071      0.057916 -0.014162  0.105604   0.020637   \n",
      "PC-2     -0.092395      0.057694 -0.012695 -0.046611   0.240321   \n",
      "\n",
      "      Marital_Status  \n",
      "PC-1        0.010143  \n",
      "PC-2       -0.000778  \n",
      "\n",
      "[2 rows x 25 columns]\n"
     ]
    }
   ],
   "source": [
    "# Dump components relations with features:\n",
    "print(pd.DataFrame(pca_n.components_,columns=X_n.columns,index = ['PC-1','PC-2']))"
   ]
  },
  {
   "cell_type": "code",
   "execution_count": 70,
   "id": "20e85464",
   "metadata": {},
   "outputs": [
    {
     "data": {
      "text/plain": [
       "Text(0, 0.5, 'pc2')"
      ]
     },
     "execution_count": 70,
     "metadata": {},
     "output_type": "execute_result"
    },
    {
     "data": {
      "image/png": "[encoded data removed]",
      "text/plain": [
       "<Figure size 500x500 with 1 Axes>"
      ]
     },
     "metadata": {},
     "output_type": "display_data"
    }
   ],
   "source": [
    "plt.figure(figsize=(5, 5))\n",
    "plt.scatter(X_n_pca[:,0],X_n_pca[:,1],c=y_pred_n,cmap='plasma')\n",
    "plt.xlabel('pc1')\n",
    "plt.ylabel('pc2')"
   ]
  }
 ],
 "metadata": {
  "kernelspec": {
   "display_name": "Python 3 (ipykernel)",
   "language": "python",
   "name": "python3"
  },
  "language_info": {
   "codemirror_mode": {
    "name": "ipython",
    "version": 3
   },
   "file_extension": ".py",
   "mimetype": "text/x-python",
   "name": "python",
   "nbconvert_exporter": "python",
   "pygments_lexer": "ipython3",
   "version": "3.9.13"
  }
 },
 "nbformat": 4,
 "nbformat_minor": 5
}
